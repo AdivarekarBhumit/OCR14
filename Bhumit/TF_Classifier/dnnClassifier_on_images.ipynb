{
 "cells": [
  {
   "cell_type": "code",
   "execution_count": 1,
   "metadata": {},
   "outputs": [
    {
     "name": "stderr",
     "output_type": "stream",
     "text": [
      "C:\\Users\\Bhumit\\Anaconda3\\lib\\site-packages\\h5py\\__init__.py:36: FutureWarning: Conversion of the second argument of issubdtype from `float` to `np.floating` is deprecated. In future, it will be treated as `np.float64 == np.dtype(float).type`.\n",
      "  from ._conv import register_converters as _register_converters\n"
     ]
    }
   ],
   "source": [
    "import tensorflow as tf\n",
    "import os\n",
    "import numpy as np\n",
    "import cv2"
   ]
  },
  {
   "cell_type": "code",
   "execution_count": 2,
   "metadata": {},
   "outputs": [
    {
     "name": "stdout",
     "output_type": "stream",
     "text": [
      "Working Folder: 0\n",
      "Working Folder: 1\n",
      "Working Folder: 2\n",
      "Working Folder: 3\n",
      "Working Folder: 4\n",
      "Working Folder: 5\n",
      "Working Folder: 6\n",
      "Working Folder: 7\n",
      "Working Folder: 8\n",
      "Working Folder: 9\n",
      "Working Folder: a\n",
      "Working Folder: b\n",
      "Working Folder: d\n",
      "Working Folder: e\n",
      "Working Folder: f\n",
      "Working Folder: g\n",
      "Working Folder: h\n",
      "Working Folder: i\n",
      "Working Folder: j\n",
      "Working Folder: l\n",
      "Working Folder: m\n",
      "Working Folder: n\n",
      "Working Folder: q\n",
      "Working Folder: r\n",
      "Working Folder: t\n",
      "Working Folder: y\n",
      "Working Folder: _A\n",
      "Working Folder: _B\n",
      "Working Folder: _C\n",
      "Working Folder: _D\n",
      "Working Folder: _E\n",
      "Working Folder: _F\n",
      "Working Folder: _G\n",
      "Working Folder: _H\n",
      "Working Folder: _I\n",
      "Working Folder: _J\n",
      "Working Folder: _K\n",
      "Working Folder: _L\n",
      "Working Folder: _M\n",
      "Working Folder: _N\n",
      "Working Folder: _O\n",
      "Working Folder: _P\n",
      "Working Folder: _Q\n",
      "Working Folder: _R\n",
      "Working Folder: _S\n",
      "Working Folder: _T\n",
      "Working Folder: _U\n",
      "Working Folder: _V\n",
      "Working Folder: _W\n",
      "Working Folder: _X\n",
      "Working Folder: _Y\n",
      "Working Folder: _Z\n"
     ]
    },
    {
     "data": {
      "text/plain": [
       "(1042104,)"
      ]
     },
     "execution_count": 2,
     "metadata": {},
     "output_type": "execute_result"
    }
   ],
   "source": [
    "# Load labels\n",
    "# Load features and labels\n",
    "# Set dir path and get images\n",
    "path = os.getcwd()\n",
    "train = path + '/data'\n",
    "train_dir_list = os.listdir(train)\n",
    "label = 0\n",
    "labels = []\n",
    "\n",
    "for folder in train_dir_list:\n",
    "    img_list = os.listdir(train + '/' + folder)\n",
    "    print('Working Folder:',folder)\n",
    "    for img in img_list:\n",
    "        labels.append(label)\n",
    "    label += 1\n",
    "labels = np.array(labels)\n",
    "labels.shape"
   ]
  },
  {
   "cell_type": "code",
   "execution_count": 4,
   "metadata": {},
   "outputs": [
    {
     "data": {
      "text/plain": [
       "(729472, 28, 28, 1)"
      ]
     },
     "execution_count": 4,
     "metadata": {},
     "output_type": "execute_result"
    }
   ],
   "source": [
    "from sklearn.utils import shuffle\n",
    "from sklearn.model_selection import train_test_split\n",
    "# Load features and split to train and test sets\n",
    "x, y = shuffle(np.load('train_data.npy'), labels, random_state=42)\n",
    "x_train, x_test, y_train, y_test = train_test_split(x, y, test_size=0.3)\n",
    "del x,y\n",
    "x_train.shape"
   ]
  },
  {
   "cell_type": "code",
   "execution_count": 5,
   "metadata": {},
   "outputs": [],
   "source": [
    "# Specify features\n",
    "feature_columns = [tf.feature_column.numeric_column('x', shape=[28,28,1])]"
   ]
  },
  {
   "cell_type": "code",
   "execution_count": 7,
   "metadata": {},
   "outputs": [
    {
     "name": "stdout",
     "output_type": "stream",
     "text": [
      "INFO:tensorflow:Using default config.\n",
      "INFO:tensorflow:Using config: {'_model_dir': './ImageClassifier/', '_tf_random_seed': None, '_save_summary_steps': 100, '_save_checkpoints_steps': None, '_save_checkpoints_secs': 600, '_session_config': None, '_keep_checkpoint_max': 5, '_keep_checkpoint_every_n_hours': 10000, '_log_step_count_steps': 100, '_service': None, '_cluster_spec': <tensorflow.python.training.server_lib.ClusterSpec object at 0x000002236587F588>, '_task_type': 'worker', '_task_id': 0, '_master': '', '_is_chief': True, '_num_ps_replicas': 0, '_num_worker_replicas': 1}\n"
     ]
    }
   ],
   "source": [
    "classifier = tf.estimator.DNNClassifier(feature_columns=feature_columns, \n",
    "                                       hidden_units=[512,256,128],\n",
    "                                       optimizer=tf.train.AdamOptimizer(learning_rate=0.001),\n",
    "                                       n_classes=52, dropout=0.1,\n",
    "                                       model_dir='./ImageClassifier/')"
   ]
  },
  {
   "cell_type": "code",
   "execution_count": 8,
   "metadata": {},
   "outputs": [],
   "source": [
    "# Define training function\n",
    "train_input_function = tf.estimator.inputs.numpy_input_fn(x={'x':x_train}, y=y_train, num_epochs=72,\n",
    "                                                          batch_size=50, shuffle=True)\n",
    "# Define testing function\n",
    "test_input_function = tf.estimator.inputs.numpy_input_fn(x={'x':x_test}, y=y_test, num_epochs=1, \n",
    "                                                         batch_size=50, shuffle=False)"
   ]
  },
  {
   "cell_type": "code",
   "execution_count": 15,
   "metadata": {},
   "outputs": [
    {
     "name": "stdout",
     "output_type": "stream",
     "text": [
      "INFO:tensorflow:Create CheckpointSaverHook.\n",
      "INFO:tensorflow:Restoring parameters from ./ImageClassifier/model.ckpt-15001\n",
      "INFO:tensorflow:Saving checkpoints for 15002 into ./ImageClassifier/model.ckpt.\n",
      "INFO:tensorflow:loss = 15.650316, step = 15002\n",
      "INFO:tensorflow:global_step/sec: 41.2768\n",
      "INFO:tensorflow:loss = 21.487373, step = 15102 (2.414 sec)\n",
      "INFO:tensorflow:global_step/sec: 67.2108\n",
      "INFO:tensorflow:loss = 20.627827, step = 15202 (1.488 sec)\n",
      "INFO:tensorflow:global_step/sec: 56.2185\n",
      "INFO:tensorflow:loss = 16.9846, step = 15302 (1.772 sec)\n",
      "INFO:tensorflow:global_step/sec: 41.5264\n",
      "INFO:tensorflow:loss = 31.20094, step = 15402 (2.421 sec)\n",
      "INFO:tensorflow:global_step/sec: 40.9401\n",
      "INFO:tensorflow:loss = 18.659626, step = 15502 (2.447 sec)\n",
      "INFO:tensorflow:global_step/sec: 51.2289\n",
      "INFO:tensorflow:loss = 20.931675, step = 15602 (1.940 sec)\n",
      "INFO:tensorflow:global_step/sec: 45.8147\n",
      "INFO:tensorflow:loss = 28.848513, step = 15702 (2.187 sec)\n",
      "INFO:tensorflow:global_step/sec: 44.464\n",
      "INFO:tensorflow:loss = 28.588535, step = 15802 (2.242 sec)\n",
      "INFO:tensorflow:global_step/sec: 45.9012\n",
      "INFO:tensorflow:loss = 25.598814, step = 15902 (2.189 sec)\n",
      "INFO:tensorflow:global_step/sec: 42.2927\n",
      "INFO:tensorflow:loss = 26.761917, step = 16002 (2.365 sec)\n",
      "INFO:tensorflow:global_step/sec: 50.8607\n",
      "INFO:tensorflow:loss = 15.072285, step = 16102 (1.961 sec)\n",
      "INFO:tensorflow:global_step/sec: 47.1559\n",
      "INFO:tensorflow:loss = 19.019234, step = 16202 (2.122 sec)\n",
      "INFO:tensorflow:global_step/sec: 51.7582\n",
      "INFO:tensorflow:loss = 11.422953, step = 16302 (1.929 sec)\n",
      "INFO:tensorflow:global_step/sec: 45.2668\n",
      "INFO:tensorflow:loss = 23.916897, step = 16402 (2.216 sec)\n",
      "INFO:tensorflow:global_step/sec: 51.6049\n",
      "INFO:tensorflow:loss = 25.399597, step = 16502 (1.929 sec)\n",
      "INFO:tensorflow:global_step/sec: 46.0333\n",
      "INFO:tensorflow:loss = 18.439537, step = 16602 (2.181 sec)\n",
      "INFO:tensorflow:global_step/sec: 39.2085\n",
      "INFO:tensorflow:loss = 30.201647, step = 16702 (2.548 sec)\n",
      "INFO:tensorflow:global_step/sec: 47.5688\n",
      "INFO:tensorflow:loss = 22.42247, step = 16802 (2.109 sec)\n",
      "INFO:tensorflow:global_step/sec: 43.6018\n",
      "INFO:tensorflow:loss = 27.714651, step = 16902 (2.278 sec)\n",
      "INFO:tensorflow:global_step/sec: 45.8185\n",
      "INFO:tensorflow:loss = 37.65917, step = 17002 (2.197 sec)\n",
      "INFO:tensorflow:global_step/sec: 42.5834\n",
      "INFO:tensorflow:loss = 12.7418585, step = 17102 (2.345 sec)\n",
      "INFO:tensorflow:global_step/sec: 41.0763\n",
      "INFO:tensorflow:loss = 17.802727, step = 17202 (2.424 sec)\n",
      "INFO:tensorflow:global_step/sec: 50.6049\n",
      "INFO:tensorflow:loss = 18.964838, step = 17302 (1.977 sec)\n",
      "INFO:tensorflow:global_step/sec: 51.6783\n",
      "INFO:tensorflow:loss = 24.696459, step = 17402 (1.934 sec)\n",
      "INFO:tensorflow:global_step/sec: 45.0312\n",
      "INFO:tensorflow:loss = 24.21934, step = 17502 (2.227 sec)\n",
      "INFO:tensorflow:global_step/sec: 66.9131\n",
      "INFO:tensorflow:loss = 23.09961, step = 17602 (1.484 sec)\n",
      "INFO:tensorflow:global_step/sec: 67.8203\n",
      "INFO:tensorflow:loss = 18.329304, step = 17702 (1.477 sec)\n",
      "INFO:tensorflow:global_step/sec: 59.9475\n",
      "INFO:tensorflow:loss = 34.479313, step = 17802 (1.668 sec)\n",
      "INFO:tensorflow:global_step/sec: 49.2869\n",
      "INFO:tensorflow:loss = 29.004847, step = 17902 (2.029 sec)\n",
      "INFO:tensorflow:global_step/sec: 61.1178\n",
      "INFO:tensorflow:loss = 23.82468, step = 18002 (1.634 sec)\n",
      "INFO:tensorflow:global_step/sec: 42.9743\n",
      "INFO:tensorflow:loss = 15.345169, step = 18102 (2.340 sec)\n",
      "INFO:tensorflow:global_step/sec: 45.297\n",
      "INFO:tensorflow:loss = 30.322989, step = 18202 (2.210 sec)\n",
      "INFO:tensorflow:global_step/sec: 38.7395\n",
      "INFO:tensorflow:loss = 15.225238, step = 18302 (2.575 sec)\n",
      "INFO:tensorflow:global_step/sec: 44.7813\n",
      "INFO:tensorflow:loss = 32.70959, step = 18402 (2.236 sec)\n",
      "INFO:tensorflow:global_step/sec: 42.7194\n",
      "INFO:tensorflow:loss = 18.363186, step = 18502 (2.334 sec)\n",
      "INFO:tensorflow:global_step/sec: 44.6133\n",
      "INFO:tensorflow:loss = 18.061712, step = 18602 (2.251 sec)\n",
      "INFO:tensorflow:global_step/sec: 45.0506\n",
      "INFO:tensorflow:loss = 26.83989, step = 18702 (2.216 sec)\n",
      "INFO:tensorflow:global_step/sec: 48.0672\n",
      "INFO:tensorflow:loss = 31.189768, step = 18802 (2.070 sec)\n",
      "INFO:tensorflow:global_step/sec: 47.488\n",
      "INFO:tensorflow:loss = 22.392857, step = 18902 (2.118 sec)\n",
      "INFO:tensorflow:global_step/sec: 53.626\n",
      "INFO:tensorflow:loss = 23.495895, step = 19002 (1.860 sec)\n",
      "INFO:tensorflow:global_step/sec: 47.0454\n",
      "INFO:tensorflow:loss = 26.00221, step = 19102 (2.133 sec)\n",
      "INFO:tensorflow:global_step/sec: 42.2058\n",
      "INFO:tensorflow:loss = 26.645334, step = 19202 (2.363 sec)\n",
      "INFO:tensorflow:global_step/sec: 42.5052\n",
      "INFO:tensorflow:loss = 19.625732, step = 19302 (2.355 sec)\n",
      "INFO:tensorflow:global_step/sec: 46.6043\n",
      "INFO:tensorflow:loss = 17.2659, step = 19402 (2.139 sec)\n",
      "INFO:tensorflow:global_step/sec: 57.2493\n",
      "INFO:tensorflow:loss = 13.074326, step = 19502 (1.757 sec)\n",
      "INFO:tensorflow:global_step/sec: 59.3518\n",
      "INFO:tensorflow:loss = 29.763493, step = 19602 (1.689 sec)\n",
      "INFO:tensorflow:global_step/sec: 44.9233\n",
      "INFO:tensorflow:loss = 24.889847, step = 19702 (2.216 sec)\n",
      "INFO:tensorflow:global_step/sec: 42.2261\n",
      "INFO:tensorflow:loss = 23.405676, step = 19802 (2.365 sec)\n",
      "INFO:tensorflow:global_step/sec: 46.5088\n",
      "INFO:tensorflow:loss = 31.179361, step = 19902 (2.152 sec)\n",
      "INFO:tensorflow:global_step/sec: 46.2004\n",
      "INFO:tensorflow:loss = 35.156895, step = 20002 (2.170 sec)\n",
      "INFO:tensorflow:global_step/sec: 41.7612\n",
      "INFO:tensorflow:loss = 17.246616, step = 20102 (2.388 sec)\n",
      "INFO:tensorflow:global_step/sec: 49.3791\n",
      "INFO:tensorflow:loss = 12.810565, step = 20202 (2.033 sec)\n",
      "INFO:tensorflow:global_step/sec: 58.271\n",
      "INFO:tensorflow:loss = 31.184113, step = 20302 (1.704 sec)\n",
      "INFO:tensorflow:global_step/sec: 53.907\n",
      "INFO:tensorflow:loss = 30.307095, step = 20402 (1.854 sec)\n",
      "INFO:tensorflow:global_step/sec: 68.7674\n",
      "INFO:tensorflow:loss = 23.620842, step = 20502 (1.454 sec)\n",
      "INFO:tensorflow:global_step/sec: 45.7366\n",
      "INFO:tensorflow:loss = 34.886147, step = 20602 (2.191 sec)\n",
      "INFO:tensorflow:global_step/sec: 44.0081\n",
      "INFO:tensorflow:loss = 37.331875, step = 20702 (2.313 sec)\n",
      "INFO:tensorflow:global_step/sec: 47.1393\n",
      "INFO:tensorflow:loss = 26.016655, step = 20802 (2.080 sec)\n",
      "INFO:tensorflow:global_step/sec: 60.1495\n",
      "INFO:tensorflow:loss = 39.2344, step = 20902 (1.661 sec)\n",
      "INFO:tensorflow:global_step/sec: 48.7837\n",
      "INFO:tensorflow:loss = 22.952166, step = 21002 (2.052 sec)\n",
      "INFO:tensorflow:global_step/sec: 52.5768\n",
      "INFO:tensorflow:loss = 17.020252, step = 21102 (1.912 sec)\n",
      "INFO:tensorflow:global_step/sec: 51.4273\n",
      "INFO:tensorflow:loss = 30.586128, step = 21202 (1.953 sec)\n",
      "INFO:tensorflow:global_step/sec: 55.9132\n",
      "INFO:tensorflow:loss = 35.290615, step = 21302 (1.764 sec)\n",
      "INFO:tensorflow:global_step/sec: 53.644\n",
      "INFO:tensorflow:loss = 26.19826, step = 21402 (1.870 sec)\n",
      "INFO:tensorflow:global_step/sec: 60.7845\n",
      "INFO:tensorflow:loss = 21.508575, step = 21502 (1.656 sec)\n",
      "INFO:tensorflow:global_step/sec: 48.2704\n",
      "INFO:tensorflow:loss = 22.455498, step = 21602 (2.061 sec)\n",
      "INFO:tensorflow:global_step/sec: 75.8244\n",
      "INFO:tensorflow:loss = 22.8301, step = 21702 (1.315 sec)\n",
      "INFO:tensorflow:global_step/sec: 65.6983\n",
      "INFO:tensorflow:loss = 25.61785, step = 21802 (1.525 sec)\n",
      "INFO:tensorflow:global_step/sec: 71.0651\n",
      "INFO:tensorflow:loss = 25.220098, step = 21902 (1.405 sec)\n",
      "INFO:tensorflow:global_step/sec: 44.5767\n",
      "INFO:tensorflow:loss = 24.779709, step = 22002 (2.256 sec)\n",
      "INFO:tensorflow:global_step/sec: 40.8237\n",
      "INFO:tensorflow:loss = 18.442787, step = 22102 (2.441 sec)\n",
      "INFO:tensorflow:global_step/sec: 64.2882\n",
      "INFO:tensorflow:loss = 16.80941, step = 22202 (1.559 sec)\n",
      "INFO:tensorflow:global_step/sec: 43.7259\n",
      "INFO:tensorflow:loss = 14.924013, step = 22302 (2.288 sec)\n",
      "INFO:tensorflow:global_step/sec: 49.7987\n",
      "INFO:tensorflow:loss = 16.034382, step = 22402 (2.001 sec)\n",
      "INFO:tensorflow:global_step/sec: 61.2175\n",
      "INFO:tensorflow:loss = 17.948078, step = 22502 (1.635 sec)\n",
      "INFO:tensorflow:global_step/sec: 53.3429\n",
      "INFO:tensorflow:loss = 15.275893, step = 22602 (1.872 sec)\n",
      "INFO:tensorflow:global_step/sec: 43.5853\n",
      "INFO:tensorflow:loss = 11.574342, step = 22702 (2.297 sec)\n",
      "INFO:tensorflow:global_step/sec: 52.1906\n",
      "INFO:tensorflow:loss = 28.485256, step = 22802 (1.925 sec)\n",
      "INFO:tensorflow:global_step/sec: 57.7925\n",
      "INFO:tensorflow:loss = 39.55509, step = 22902 (1.733 sec)\n",
      "INFO:tensorflow:global_step/sec: 59.664\n",
      "INFO:tensorflow:loss = 23.823593, step = 23002 (1.661 sec)\n"
     ]
    },
    {
     "name": "stdout",
     "output_type": "stream",
     "text": [
      "INFO:tensorflow:global_step/sec: 53.9832\n",
      "INFO:tensorflow:loss = 17.825144, step = 23102 (1.867 sec)\n",
      "INFO:tensorflow:global_step/sec: 55.9047\n",
      "INFO:tensorflow:loss = 16.62566, step = 23202 (1.775 sec)\n",
      "INFO:tensorflow:global_step/sec: 55.4341\n",
      "INFO:tensorflow:loss = 31.068504, step = 23302 (1.814 sec)\n",
      "INFO:tensorflow:global_step/sec: 48.857\n",
      "INFO:tensorflow:loss = 25.683212, step = 23402 (2.040 sec)\n",
      "INFO:tensorflow:global_step/sec: 48.3871\n",
      "INFO:tensorflow:loss = 20.748842, step = 23502 (2.066 sec)\n",
      "INFO:tensorflow:global_step/sec: 49.6961\n",
      "INFO:tensorflow:loss = 26.800728, step = 23602 (2.012 sec)\n",
      "INFO:tensorflow:global_step/sec: 52.0693\n",
      "INFO:tensorflow:loss = 43.126236, step = 23702 (1.928 sec)\n",
      "INFO:tensorflow:global_step/sec: 44.8732\n",
      "INFO:tensorflow:loss = 19.954, step = 23802 (2.218 sec)\n",
      "INFO:tensorflow:global_step/sec: 48.5044\n",
      "INFO:tensorflow:loss = 30.676838, step = 23902 (2.074 sec)\n",
      "INFO:tensorflow:global_step/sec: 50.6867\n",
      "INFO:tensorflow:loss = 21.00956, step = 24002 (1.974 sec)\n",
      "INFO:tensorflow:global_step/sec: 49.8365\n",
      "INFO:tensorflow:loss = 28.033485, step = 24102 (2.006 sec)\n",
      "INFO:tensorflow:global_step/sec: 42.6392\n",
      "INFO:tensorflow:loss = 15.598639, step = 24202 (2.339 sec)\n",
      "INFO:tensorflow:global_step/sec: 45.9443\n",
      "INFO:tensorflow:loss = 13.522331, step = 24302 (2.180 sec)\n",
      "INFO:tensorflow:global_step/sec: 50.8195\n",
      "INFO:tensorflow:loss = 21.371906, step = 24402 (1.971 sec)\n",
      "INFO:tensorflow:global_step/sec: 54.9636\n",
      "INFO:tensorflow:loss = 28.078787, step = 24502 (1.807 sec)\n",
      "INFO:tensorflow:global_step/sec: 58.1013\n",
      "INFO:tensorflow:loss = 19.356035, step = 24602 (1.731 sec)\n",
      "INFO:tensorflow:global_step/sec: 45.2502\n",
      "INFO:tensorflow:loss = 18.49524, step = 24702 (2.212 sec)\n",
      "INFO:tensorflow:global_step/sec: 40.4997\n",
      "INFO:tensorflow:loss = 13.608913, step = 24802 (2.463 sec)\n",
      "INFO:tensorflow:global_step/sec: 43.2916\n",
      "INFO:tensorflow:loss = 29.823761, step = 24902 (2.310 sec)\n",
      "INFO:tensorflow:global_step/sec: 47.6459\n",
      "INFO:tensorflow:loss = 18.24347, step = 25002 (2.105 sec)\n",
      "INFO:tensorflow:Saving checkpoints for 25002 into ./ImageClassifier/model.ckpt.\n",
      "INFO:tensorflow:Loss for final step: 18.24347.\n"
     ]
    },
    {
     "data": {
      "text/plain": [
       "<tensorflow.python.estimator.canned.dnn.DNNClassifier at 0x2236587fdd8>"
      ]
     },
     "execution_count": 15,
     "metadata": {},
     "output_type": "execute_result"
    }
   ],
   "source": [
    "classifier.train(input_fn=train_input_function, steps=10001)"
   ]
  },
  {
   "cell_type": "code",
   "execution_count": 16,
   "metadata": {},
   "outputs": [
    {
     "name": "stdout",
     "output_type": "stream",
     "text": [
      "INFO:tensorflow:Starting evaluation at 2018-02-11-17:44:25\n",
      "INFO:tensorflow:Restoring parameters from ./ImageClassifier/model.ckpt-25002\n",
      "INFO:tensorflow:Finished evaluation at 2018-02-11-17:45:38\n",
      "INFO:tensorflow:Saving dict for global step 25002: accuracy = 0.848931, average_loss = 0.4195459, global_step = 25002, loss = 20.976086\n",
      "\n",
      "Test Accuracy: 84.893101%\n",
      "\n"
     ]
    }
   ],
   "source": [
    "accuracy_score = classifier.evaluate(input_fn=test_input_function)[\"accuracy\"]\n",
    "print(\"\\nTest Accuracy: {0:f}%\\n\".format(accuracy_score*100))"
   ]
  }
 ],
 "metadata": {
  "kernelspec": {
   "display_name": "Python 3",
   "language": "python",
   "name": "python3"
  },
  "language_info": {
   "codemirror_mode": {
    "name": "ipython",
    "version": 3
   },
   "file_extension": ".py",
   "mimetype": "text/x-python",
   "name": "python",
   "nbconvert_exporter": "python",
   "pygments_lexer": "ipython3",
   "version": "3.6.4"
  }
 },
 "nbformat": 4,
 "nbformat_minor": 2
}
