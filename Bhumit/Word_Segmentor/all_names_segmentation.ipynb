{
 "cells": [
  {
   "cell_type": "code",
   "execution_count": 74,
   "metadata": {},
   "outputs": [],
   "source": [
    "import re\n",
    "import pandas as pd\n",
    "import wordsegment\n",
    "from collections import Counter\n",
    "import requests"
   ]
  },
  {
   "cell_type": "code",
   "execution_count": 75,
   "metadata": {},
   "outputs": [
    {
     "data": {
      "text/plain": [
       "['this', 'is', 'string']"
      ]
     },
     "execution_count": 75,
     "metadata": {},
     "output_type": "execute_result"
    }
   ],
   "source": [
    "wordsegment.load()\n",
    "wordsegment.segment('thisisstring')"
   ]
  },
  {
   "cell_type": "code",
   "execution_count": 76,
   "metadata": {},
   "outputs": [],
   "source": [
    "with open('all_vocal.txt', 'r', encoding='utf-8') as f:\n",
    "    text = f.read() "
   ]
  },
  {
   "cell_type": "code",
   "execution_count": 77,
   "metadata": {},
   "outputs": [
    {
     "data": {
      "text/plain": [
       "2223395"
      ]
     },
     "execution_count": 77,
     "metadata": {},
     "output_type": "execute_result"
    }
   ],
   "source": [
    "len(text)"
   ]
  },
  {
   "cell_type": "code",
   "execution_count": 78,
   "metadata": {},
   "outputs": [],
   "source": [
    "def tokenize(text):\n",
    "    pattern = re.compile('[a-zA-Z]+')\n",
    "    return (match.group(0) for match in pattern.finditer(text.lower())) \n",
    "#if your input is all in lower case other wise remove lower() as in text file some word are Unique\n",
    "\n",
    "from collections import Counter\n",
    "\n",
    "wordsegment.UNIGRAMS.clear()\n",
    "wordsegment.UNIGRAMS.update(Counter(tokenize(text)))\n",
    "\n",
    "def pairs(iterable):\n",
    "    iterator = iter(iterable)\n",
    "    values = [next(iterator)]\n",
    "    for value in iterator:\n",
    "        values.append(value)\n",
    "        yield ' '.join(values)\n",
    "        del values[0]\n",
    "\n",
    "wordsegment.BIGRAMS.clear()\n",
    "wordsegment.BIGRAMS.update(Counter(pairs(tokenize(text))))\n",
    "\n",
    "from wordsegment import _segmenter\n",
    "\n",
    "def identity(value):\n",
    "    return value\n",
    "\n",
    "_segmenter.clean = identity\n",
    "#Below statement is needed when results are poor and corpus is large\n",
    "_segmenter.total = float(sum(wordsegment.UNIGRAMS.values()))"
   ]
  },
  {
   "cell_type": "code",
   "execution_count": 79,
   "metadata": {},
   "outputs": [
    {
     "data": {
      "text/plain": [
       "['shahrukh', 'khan']"
      ]
     },
     "execution_count": 79,
     "metadata": {},
     "output_type": "execute_result"
    }
   ],
   "source": [
    "wordsegment.segment('shahrukhkhan')"
   ]
  },
  {
   "cell_type": "code",
   "execution_count": 80,
   "metadata": {},
   "outputs": [
    {
     "data": {
      "text/plain": [
       "['madhuri', 'dixit']"
      ]
     },
     "execution_count": 80,
     "metadata": {},
     "output_type": "execute_result"
    }
   ],
   "source": [
    "wordsegment.segment('madhuridixit')"
   ]
  },
  {
   "cell_type": "code",
   "execution_count": 81,
   "metadata": {},
   "outputs": [
    {
     "data": {
      "text/plain": [
       "['deepika', 'padukone']"
      ]
     },
     "execution_count": 81,
     "metadata": {},
     "output_type": "execute_result"
    }
   ],
   "source": [
    "wordsegment.segment('deepikapadukone')"
   ]
  },
  {
   "cell_type": "code",
   "execution_count": 82,
   "metadata": {},
   "outputs": [
    {
     "data": {
      "text/plain": [
       "['katrina', 'khan']"
      ]
     },
     "execution_count": 82,
     "metadata": {},
     "output_type": "execute_result"
    }
   ],
   "source": [
    "wordsegment.segment('katrinakhan')"
   ]
  },
  {
   "cell_type": "code",
   "execution_count": 83,
   "metadata": {},
   "outputs": [
    {
     "data": {
      "text/plain": [
       "['manpreet', 'kaur']"
      ]
     },
     "execution_count": 83,
     "metadata": {},
     "output_type": "execute_result"
    }
   ],
   "source": [
    "wordsegment.segment('manpreetkaur')"
   ]
  },
  {
   "cell_type": "code",
   "execution_count": 84,
   "metadata": {},
   "outputs": [
    {
     "data": {
      "text/plain": [
       "['kumar', 'sahu']"
      ]
     },
     "execution_count": 84,
     "metadata": {},
     "output_type": "execute_result"
    }
   ],
   "source": [
    "wordsegment.segment('kumarsahu')"
   ]
  },
  {
   "cell_type": "code",
   "execution_count": 86,
   "metadata": {},
   "outputs": [
    {
     "data": {
      "text/plain": [
       "['shahrukh',\n",
       " 'khan',\n",
       " 'returned',\n",
       " 'to',\n",
       " 'Kolkata',\n",
       " 'with',\n",
       " 'his',\n",
       " 'friends',\n",
       " 'and',\n",
       " 'went',\n",
       " 'to',\n",
       " 'diu',\n",
       " 'and',\n",
       " 'daman',\n",
       " 'with',\n",
       " 'bhumit',\n",
       " 'praneet',\n",
       " 'muteeullah',\n",
       " 'and',\n",
       " 'misbah',\n",
       " 'and',\n",
       " 'went',\n",
       " 'to',\n",
       " 'taj',\n",
       " 'hotel',\n",
       " 'in',\n",
       " 'cst',\n",
       " 'near',\n",
       " 'thiruvananthapuram',\n",
       " 'kochi']"
      ]
     },
     "execution_count": 86,
     "metadata": {},
     "output_type": "execute_result"
    }
   ],
   "source": [
    "wordsegment.segment('shahrukhkhanreturnedtoKolkatawithhisfriendsandwenttodiuanddamanwithbhumitpraneetmuteeullahandmisbahandwenttotajhotelincstnearthiruvananthapuramkochi')"
   ]
  }
 ],
 "metadata": {
  "kernelspec": {
   "display_name": "Python 3",
   "language": "python",
   "name": "python3"
  },
  "language_info": {
   "codemirror_mode": {
    "name": "ipython",
    "version": 3
   },
   "file_extension": ".py",
   "mimetype": "text/x-python",
   "name": "python",
   "nbconvert_exporter": "python",
   "pygments_lexer": "ipython3",
   "version": "3.6.3"
  }
 },
 "nbformat": 4,
 "nbformat_minor": 2
}
