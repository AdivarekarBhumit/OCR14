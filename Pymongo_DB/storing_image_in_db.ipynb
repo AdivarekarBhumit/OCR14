{
 "cells": [
  {
   "cell_type": "code",
   "execution_count": 2,
   "metadata": {},
   "outputs": [],
   "source": [
    "import pymongo as pm"
   ]
  },
  {
   "cell_type": "code",
   "execution_count": 4,
   "metadata": {},
   "outputs": [],
   "source": [
    "name = 'mydb'\n",
    "conn = pm.MongoClient('localhost:27017')\n",
    "db = conn.get_database(name)"
   ]
  },
  {
   "cell_type": "code",
   "execution_count": 5,
   "metadata": {},
   "outputs": [],
   "source": [
    "def insert_data(db_name, args_dict):\n",
    "    '''\n",
    "    db_name -> string i.e name of the db\n",
    "    args_dict -> a dictionary of entries in db\n",
    "    '''\n",
    "    db[db_name].insert_one(args_dict)\n",
    "    print('Data inserted successfully')"
   ]
  },
  {
   "cell_type": "code",
   "execution_count": 6,
   "metadata": {},
   "outputs": [],
   "source": [
    "def read_data(db_name):\n",
    "    '''\n",
    "    returns a cursor of objects\n",
    "    which can be iterated and printed\n",
    "    '''\n",
    "    cols = db[db_name].find({})\n",
    "    return cols"
   ]
  },
  {
   "cell_type": "code",
   "execution_count": 7,
   "metadata": {},
   "outputs": [],
   "source": [
    "#Update in data base\n",
    "def update_data(db_name, idno, updation):\n",
    "    '''\n",
    "    db_name -> string\n",
    "    idno -> id number of database entry in dict\n",
    "    eg:- {'id':'02'}\n",
    "    updation -> dict of elements to be updated\n",
    "    eg:-{\n",
    "        '$set':{\n",
    "            'name':'Kevin11',\n",
    "            'contact':'9664820165'\n",
    "        }\n",
    "    }\n",
    "    '''\n",
    "    db[db_name].update_one(idno, updation)\n",
    "    print('Database updated successfully')"
   ]
  },
  {
   "cell_type": "code",
   "execution_count": 8,
   "metadata": {},
   "outputs": [],
   "source": [
    "def delete_row(db_name, idno):\n",
    "    '''\n",
    "    Deletes the complete row \n",
    "    idno must be a dict {idno:'anything'}\n",
    "    '''\n",
    "    db[db_name].delete_many(idno)\n",
    "    print('Row deleted')"
   ]
  },
  {
   "cell_type": "code",
   "execution_count": 9,
   "metadata": {},
   "outputs": [],
   "source": [
    "# now we will try to insert the image in database\n",
    "import cv2\n",
    "import numpy as np"
   ]
  },
  {
   "cell_type": "code",
   "execution_count": 10,
   "metadata": {},
   "outputs": [
    {
     "data": {
      "text/plain": [
       "(1200, 1920, 3)"
      ]
     },
     "execution_count": 10,
     "metadata": {},
     "output_type": "execute_result"
    }
   ],
   "source": [
    "img = cv2.imread('maxresdefault.jpg')\n",
    "img = np.array(img)\n",
    "img.shape"
   ]
  },
  {
   "cell_type": "code",
   "execution_count": 11,
   "metadata": {},
   "outputs": [
    {
     "name": "stdout",
     "output_type": "stream",
     "text": [
      "Row deleted\n"
     ]
    }
   ],
   "source": [
    "delete_row(name, idno={'name':'cats2'})"
   ]
  },
  {
   "cell_type": "code",
   "execution_count": 12,
   "metadata": {},
   "outputs": [],
   "source": [
    "import six\n",
    "from six.moves import cPickle as pickle\n",
    "from bson.binary import Binary\n",
    "def convert_array_to_binary(image):\n",
    "    return Binary(pickle.dumps(image, protocol=2))"
   ]
  },
  {
   "cell_type": "code",
   "execution_count": 13,
   "metadata": {},
   "outputs": [],
   "source": [
    "args = {\n",
    "    'name':'cats2',\n",
    "    'array':convert_array_to_binary(image=img)\n",
    "}"
   ]
  },
  {
   "cell_type": "code",
   "execution_count": 14,
   "metadata": {},
   "outputs": [
    {
     "name": "stdout",
     "output_type": "stream",
     "text": [
      "Data inserted successfully\n"
     ]
    }
   ],
   "source": [
    "insert_data(name, args_dict=args)"
   ]
  },
  {
   "cell_type": "code",
   "execution_count": 15,
   "metadata": {},
   "outputs": [],
   "source": [
    "emp = []\n",
    "cols = read_data(name)\n",
    "for c in cols:\n",
    "    emp.append(c['array'])"
   ]
  },
  {
   "cell_type": "code",
   "execution_count": 16,
   "metadata": {},
   "outputs": [],
   "source": [
    "x = pickle.loads(emp[1])"
   ]
  },
  {
   "cell_type": "code",
   "execution_count": 17,
   "metadata": {},
   "outputs": [],
   "source": [
    "cv2.imshow('og', img)\n",
    "cv2.waitKey(0)\n",
    "cv2.imshow('img', x)\n",
    "cv2.waitKey(0)\n",
    "cv2.destroyAllWindows()"
   ]
  }
 ],
 "metadata": {
  "kernelspec": {
   "display_name": "Python 3",
   "language": "python",
   "name": "python3"
  },
  "language_info": {
   "codemirror_mode": {
    "name": "ipython",
    "version": 3
   },
   "file_extension": ".py",
   "mimetype": "text/x-python",
   "name": "python",
   "nbconvert_exporter": "python",
   "pygments_lexer": "ipython3",
   "version": "3.6.4"
  }
 },
 "nbformat": 4,
 "nbformat_minor": 2
}
