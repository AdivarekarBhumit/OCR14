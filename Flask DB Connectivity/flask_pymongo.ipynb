{
 "cells": [
  {
   "cell_type": "code",
   "execution_count": 7,
   "metadata": {},
   "outputs": [],
   "source": [
    "from flask import Flask, render_template, request\n",
    "import pymongo as pm\n",
    "import cv2\n",
    "import numpy as np\n",
    "from bson.binary import Binary\n",
    "from six.moves import cPickle as pickle"
   ]
  },
  {
   "cell_type": "code",
   "execution_count": 32,
   "metadata": {},
   "outputs": [],
   "source": [
    "name = 'mydb'\n",
    "conn = pm.MongoClient('localhost:27017')\n",
    "db = conn.get_database(name)"
   ]
  },
  {
   "cell_type": "code",
   "execution_count": 33,
   "metadata": {},
   "outputs": [],
   "source": [
    "def insert_data(db_name, args_dict):\n",
    "    '''\n",
    "    db_name -> string i.e name of the db\n",
    "    args_dict -> a dictionary of entries in db\n",
    "    '''\n",
    "    db[db_name].insert_one(args_dict)\n",
    "    print('Data inserted successfully')\n",
    "\n",
    "def read_data(db_name):\n",
    "    '''\n",
    "    returns a cursor of objects\n",
    "    which can be iterated and printed\n",
    "    '''\n",
    "    cols = db[db_name].find({})\n",
    "    return cols\n",
    "\n",
    "#Update in data base\n",
    "def update_data(db_name, idno, updation):\n",
    "    '''\n",
    "    db_name -> string\n",
    "    idno -> id number of database entry in dict\n",
    "    eg:- {'id':'02'}\n",
    "    updation -> dict of elements to be updated\n",
    "    eg:-{\n",
    "        '$set':{\n",
    "            'name':'Kevin11',\n",
    "            'contact':'9664820165'\n",
    "        }\n",
    "    }\n",
    "    '''\n",
    "    db[db_name].update_one(idno, updation)\n",
    "    print('Database updated successfully')\n",
    "\n",
    "def delete_row(db_name, idno):\n",
    "    '''\n",
    "    Deletes the complete row \n",
    "    idno must be a dict {idno:'anything'}\n",
    "    '''\n",
    "    db[db_name].delete_many(idno)\n",
    "    print('Row deleted')"
   ]
  },
  {
   "cell_type": "code",
   "execution_count": 34,
   "metadata": {},
   "outputs": [
    {
     "name": "stdout",
     "output_type": "stream",
     "text": [
      "Row deleted\n"
     ]
    }
   ],
   "source": [
    "delete_row(db_name=name, idno={'name':'dogs'})"
   ]
  },
  {
   "cell_type": "code",
   "execution_count": 46,
   "metadata": {},
   "outputs": [],
   "source": [
    "app = Flask(__name__)\n",
    "\n",
    "def write_image(img_path):\n",
    "    img = cv2.imread(img_path)\n",
    "    img = cv2.resize(img, (100,100))\n",
    "    return Binary(pickle.dumps(img, protocol=2))\n",
    "\n",
    "def load_image_from_db(img_name, db_name):\n",
    "    data = []\n",
    "    db = conn.get_database(db_name)\n",
    "    cols = read_data(db_name)\n",
    "    for c in cols:\n",
    "        print(c['name'])\n",
    "        if c['name'] == img_name:\n",
    "            x = pickle.loads(c['array'])\n",
    "            data.append(x)\n",
    "    return data\n",
    "            \n",
    "@app.route('/')\n",
    "def select_file():\n",
    "    return render_template('form.html')\n",
    "\n",
    "@app.route('/upload', methods=['POST'])\n",
    "def upload_in_db():\n",
    "    preset_path = './images/'\n",
    "    if request.method == 'POST':\n",
    "        fname = request.form['name']\n",
    "        fpath = request.form['imgfile']\n",
    "        print(fname, fpath)\n",
    "        args = {\n",
    "            'name':fname,\n",
    "            'array':write_image(preset_path + fpath)\n",
    "        }\n",
    "        insert_data(name, args_dict=args)\n",
    "        return 'File uploaded'"
   ]
  },
  {
   "cell_type": "code",
   "execution_count": 43,
   "metadata": {},
   "outputs": [
    {
     "name": "stderr",
     "output_type": "stream",
     "text": [
      " * Running on http://127.0.0.1:5000/ (Press CTRL+C to quit)\n",
      "127.0.0.1 - - [11/Mar/2018 21:14:44] \"GET / HTTP/1.1\" 200 -\n"
     ]
    },
    {
     "name": "stdout",
     "output_type": "stream",
     "text": [
      "dogs dogs.jpg\n"
     ]
    },
    {
     "name": "stderr",
     "output_type": "stream",
     "text": [
      "127.0.0.1 - - [11/Mar/2018 21:14:51] \"POST /upload HTTP/1.1\" 200 -\n"
     ]
    },
    {
     "name": "stdout",
     "output_type": "stream",
     "text": [
      "Data inserted successfully\n"
     ]
    }
   ],
   "source": [
    "app.run()"
   ]
  },
  {
   "cell_type": "code",
   "execution_count": 47,
   "metadata": {},
   "outputs": [
    {
     "name": "stdout",
     "output_type": "stream",
     "text": [
      "cat_black\n",
      "dogs\n"
     ]
    }
   ],
   "source": [
    "data = load_image_from_db(img_name=\"dogs\", db_name=name)"
   ]
  },
  {
   "cell_type": "code",
   "execution_count": 48,
   "metadata": {},
   "outputs": [],
   "source": [
    "cv2.imshow('Image', data[0])\n",
    "cv2.waitKey(0)\n",
    "cv2.destroyAllWindows()"
   ]
  }
 ],
 "metadata": {
  "kernelspec": {
   "display_name": "Python 3",
   "language": "python",
   "name": "python3"
  },
  "language_info": {
   "codemirror_mode": {
    "name": "ipython",
    "version": 3
   },
   "file_extension": ".py",
   "mimetype": "text/x-python",
   "name": "python",
   "nbconvert_exporter": "python",
   "pygments_lexer": "ipython3",
   "version": "3.6.4"
  }
 },
 "nbformat": 4,
 "nbformat_minor": 2
}
