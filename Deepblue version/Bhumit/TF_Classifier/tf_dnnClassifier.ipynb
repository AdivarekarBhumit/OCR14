{
 "cells": [
  {
   "cell_type": "code",
   "execution_count": 1,
   "metadata": {},
   "outputs": [
    {
     "name": "stderr",
     "output_type": "stream",
     "text": [
      "C:\\Users\\Bhumit\\Anaconda3\\lib\\site-packages\\h5py\\__init__.py:36: FutureWarning: Conversion of the second argument of issubdtype from `float` to `np.floating` is deprecated. In future, it will be treated as `np.float64 == np.dtype(float).type`.\n",
      "  from ._conv import register_converters as _register_converters\n"
     ]
    }
   ],
   "source": [
    "import tensorflow as tf\n",
    "import numpy as np\n",
    "import os"
   ]
  },
  {
   "cell_type": "code",
   "execution_count": 41,
   "metadata": {},
   "outputs": [
    {
     "name": "stdout",
     "output_type": "stream",
     "text": [
      "Working Folder: 0\n",
      "Working Folder: 1\n",
      "Working Folder: 2\n",
      "Working Folder: 3\n",
      "Working Folder: 4\n",
      "Working Folder: 5\n",
      "Working Folder: 6\n",
      "Working Folder: 7\n",
      "Working Folder: 8\n",
      "Working Folder: 9\n",
      "Working Folder: a\n",
      "Working Folder: b\n",
      "Working Folder: d\n",
      "Working Folder: e\n",
      "Working Folder: f\n",
      "Working Folder: g\n",
      "Working Folder: h\n",
      "Working Folder: i\n",
      "Working Folder: j\n",
      "Working Folder: l\n",
      "Working Folder: m\n",
      "Working Folder: n\n",
      "Working Folder: q\n",
      "Working Folder: r\n",
      "Working Folder: t\n",
      "Working Folder: y\n",
      "Working Folder: _A\n",
      "Working Folder: _B\n",
      "Working Folder: _C\n",
      "Working Folder: _D\n",
      "Working Folder: _E\n",
      "Working Folder: _F\n",
      "Working Folder: _G\n",
      "Working Folder: _H\n",
      "Working Folder: _I\n",
      "Working Folder: _J\n",
      "Working Folder: _K\n",
      "Working Folder: _L\n",
      "Working Folder: _M\n",
      "Working Folder: _N\n",
      "Working Folder: _O\n",
      "Working Folder: _P\n",
      "Working Folder: _Q\n",
      "Working Folder: _R\n",
      "Working Folder: _S\n",
      "Working Folder: _T\n",
      "Working Folder: _U\n",
      "Working Folder: _V\n",
      "Working Folder: _W\n",
      "Working Folder: _X\n",
      "Working Folder: _Y\n",
      "Working Folder: _Z\n"
     ]
    },
    {
     "data": {
      "text/plain": [
       "(1042104,)"
      ]
     },
     "execution_count": 41,
     "metadata": {},
     "output_type": "execute_result"
    }
   ],
   "source": [
    "# Load labels\n",
    "# Load features and labels\n",
    "# Set dir path and get images\n",
    "path = os.getcwd()\n",
    "train = path + '/data'\n",
    "train_dir_list = os.listdir(train)\n",
    "label = 0\n",
    "labels = []\n",
    "\n",
    "for folder in train_dir_list:\n",
    "    img_list = os.listdir(train + '/' + folder)\n",
    "    print('Working Folder:',folder)\n",
    "    for img in img_list:\n",
    "        labels.append(label)\n",
    "    label += 1\n",
    "labels = np.array(labels)\n",
    "labels.shape"
   ]
  },
  {
   "cell_type": "code",
   "execution_count": 34,
   "metadata": {},
   "outputs": [],
   "source": [
    "path = os.getcwd()\n",
    "train = path + '/data'\n",
    "train_dir_list = os.listdir(train)"
   ]
  },
  {
   "cell_type": "code",
   "execution_count": 83,
   "metadata": {},
   "outputs": [
    {
     "data": {
      "text/plain": [
       "'d'"
      ]
     },
     "execution_count": 83,
     "metadata": {},
     "output_type": "execute_result"
    }
   ],
   "source": [
    "train_dir_list[12]"
   ]
  },
  {
   "cell_type": "code",
   "execution_count": 42,
   "metadata": {},
   "outputs": [],
   "source": [
    "from sklearn.utils import shuffle\n",
    "from sklearn.model_selection import train_test_split\n",
    "# Load features and split to train and test sets\n",
    "x, y = shuffle(np.load('features784.npy'), labels, random_state=42)\n",
    "x_train, x_test, y_train, y_test = train_test_split(x, y, test_size=0.3)\n",
    "del x,y"
   ]
  },
  {
   "cell_type": "code",
   "execution_count": 4,
   "metadata": {},
   "outputs": [
    {
     "data": {
      "text/plain": [
       "dtype('int32')"
      ]
     },
     "execution_count": 4,
     "metadata": {},
     "output_type": "execute_result"
    }
   ],
   "source": [
    "y_test.dtype"
   ]
  },
  {
   "cell_type": "code",
   "execution_count": 3,
   "metadata": {},
   "outputs": [],
   "source": [
    "# Specify features\n",
    "feature_columns = [tf.feature_column.numeric_column('x', shape=[784,])]"
   ]
  },
  {
   "cell_type": "code",
   "execution_count": 43,
   "metadata": {},
   "outputs": [],
   "source": [
    "def input(train=True):\n",
    "    if train:\n",
    "        return x_train, y_train.astype(np.int32)\n",
    "    else:\n",
    "        return x_test, y_test.astype(np.int32)"
   ]
  },
  {
   "cell_type": "code",
   "execution_count": 45,
   "metadata": {},
   "outputs": [
    {
     "name": "stdout",
     "output_type": "stream",
     "text": [
      "INFO:tensorflow:Using default config.\n",
      "INFO:tensorflow:Using config: {'_model_dir': './modelEstimator/', '_tf_random_seed': None, '_save_summary_steps': 100, '_save_checkpoints_steps': None, '_save_checkpoints_secs': 600, '_session_config': None, '_keep_checkpoint_max': 5, '_keep_checkpoint_every_n_hours': 10000, '_log_step_count_steps': 100, '_service': None, '_cluster_spec': <tensorflow.python.training.server_lib.ClusterSpec object at 0x0000027399D7CE10>, '_task_type': 'worker', '_task_id': 0, '_master': '', '_is_chief': True, '_num_ps_replicas': 0, '_num_worker_replicas': 1}\n"
     ]
    }
   ],
   "source": [
    "classifier = tf.estimator.DNNClassifier(feature_columns=feature_columns, \n",
    "                                       hidden_units=[512,256,128],\n",
    "                                       optimizer=tf.train.AdamOptimizer(learning_rate=0.001),\n",
    "                                       n_classes=52, dropout=0.1,\n",
    "                                       model_dir='./modelEstimator/')"
   ]
  },
  {
   "cell_type": "code",
   "execution_count": 46,
   "metadata": {},
   "outputs": [],
   "source": [
    "# Define training function\n",
    "train_input_function = tf.estimator.inputs.numpy_input_fn(x={'x':x_train}, y=y_train, num_epochs=72,\n",
    "                                                          batch_size=50, shuffle=True)\n",
    "# Define testing function\n",
    "test_input_function = tf.estimator.inputs.numpy_input_fn(x={'x':x_test}, y=y_test, num_epochs=2, \n",
    "                                                         batch_size=50, shuffle=False)"
   ]
  },
  {
   "cell_type": "code",
   "execution_count": 60,
   "metadata": {},
   "outputs": [
    {
     "name": "stdout",
     "output_type": "stream",
     "text": [
      "INFO:tensorflow:Create CheckpointSaverHook.\n",
      "INFO:tensorflow:Restoring parameters from ./modelEstimator/model.ckpt-17000\n",
      "INFO:tensorflow:Saving checkpoints for 17001 into ./modelEstimator/model.ckpt.\n",
      "INFO:tensorflow:loss = 19.980518, step = 17001\n",
      "INFO:tensorflow:global_step/sec: 76.3613\n",
      "INFO:tensorflow:loss = 19.91734, step = 17101 (1.316 sec)\n",
      "INFO:tensorflow:global_step/sec: 106.35\n",
      "INFO:tensorflow:loss = 13.733269, step = 17201 (0.939 sec)\n",
      "INFO:tensorflow:global_step/sec: 84.1698\n",
      "INFO:tensorflow:loss = 36.9837, step = 17301 (1.191 sec)\n",
      "INFO:tensorflow:global_step/sec: 73.3574\n",
      "INFO:tensorflow:loss = 18.87622, step = 17401 (1.367 sec)\n",
      "INFO:tensorflow:global_step/sec: 75.7571\n",
      "INFO:tensorflow:loss = 13.323137, step = 17501 (1.326 sec)\n",
      "INFO:tensorflow:global_step/sec: 111.487\n",
      "INFO:tensorflow:loss = 5.837536, step = 17601 (0.918 sec)\n",
      "INFO:tensorflow:global_step/sec: 87.5196\n",
      "INFO:tensorflow:loss = 25.781517, step = 17701 (1.123 sec)\n",
      "INFO:tensorflow:global_step/sec: 79.4034\n",
      "INFO:tensorflow:loss = 4.532286, step = 17801 (1.246 sec)\n",
      "INFO:tensorflow:global_step/sec: 87.9557\n",
      "INFO:tensorflow:loss = 21.32645, step = 17901 (1.154 sec)\n",
      "INFO:tensorflow:Saving checkpoints for 18000 into ./modelEstimator/model.ckpt.\n",
      "INFO:tensorflow:Loss for final step: 19.329561.\n"
     ]
    },
    {
     "data": {
      "text/plain": [
       "<tensorflow.python.estimator.canned.dnn.DNNClassifier at 0x27399d7cb70>"
      ]
     },
     "execution_count": 60,
     "metadata": {},
     "output_type": "execute_result"
    }
   ],
   "source": [
    "classifier.train(input_fn=train_input_function, steps=1000)"
   ]
  },
  {
   "cell_type": "code",
   "execution_count": 61,
   "metadata": {},
   "outputs": [
    {
     "name": "stdout",
     "output_type": "stream",
     "text": [
      "INFO:tensorflow:Starting evaluation at 2018-02-12-04:33:28\n",
      "INFO:tensorflow:Restoring parameters from ./modelEstimator/model.ckpt-18000\n",
      "INFO:tensorflow:Finished evaluation at 2018-02-12-04:34:46\n",
      "INFO:tensorflow:Saving dict for global step 18000: accuracy = 0.90992284, average_loss = 0.24857046, global_step = 18000, loss = 12.427807\n",
      "\n",
      "Test Accuracy: 90.992284%\n",
      "\n"
     ]
    }
   ],
   "source": [
    "accuracy_score = classifier.evaluate(input_fn=test_input_function)[\"accuracy\"]\n",
    "print(\"\\nTest Accuracy: {0:f}%\\n\".format(accuracy_score*100))"
   ]
  },
  {
   "cell_type": "code",
   "execution_count": 6,
   "metadata": {},
   "outputs": [
    {
     "name": "stderr",
     "output_type": "stream",
     "text": [
      "Using TensorFlow backend.\n"
     ]
    },
    {
     "name": "stdout",
     "output_type": "stream",
     "text": [
      "_________________________________________________________________\n",
      "Layer (type)                 Output Shape              Param #   \n",
      "=================================================================\n",
      "conv2d_1 (Conv2D)            (None, 26, 26, 32)        320       \n",
      "_________________________________________________________________\n",
      "max_pooling2d_1 (MaxPooling2 (None, 13, 13, 32)        0         \n",
      "_________________________________________________________________\n",
      "dropout_1 (Dropout)          (None, 13, 13, 32)        0         \n",
      "_________________________________________________________________\n",
      "conv2d_2 (Conv2D)            (None, 11, 11, 64)        18496     \n",
      "_________________________________________________________________\n",
      "max_pooling2d_2 (MaxPooling2 (None, 5, 5, 64)          0         \n",
      "_________________________________________________________________\n",
      "dropout_2 (Dropout)          (None, 5, 5, 64)          0         \n",
      "_________________________________________________________________\n",
      "conv2d_3 (Conv2D)            (None, 3, 3, 128)         73856     \n",
      "_________________________________________________________________\n",
      "dropout_3 (Dropout)          (None, 3, 3, 128)         0         \n",
      "_________________________________________________________________\n",
      "flatten_1 (Flatten)          (None, 1152)              0         \n",
      "_________________________________________________________________\n",
      "dense_1 (Dense)              (None, 784)               903952    \n",
      "_________________________________________________________________\n",
      "dense_2 (Dense)              (None, 52)                40820     \n",
      "=================================================================\n",
      "Total params: 1,037,444\n",
      "Trainable params: 1,037,444\n",
      "Non-trainable params: 0\n",
      "_________________________________________________________________\n"
     ]
    }
   ],
   "source": [
    "from keras.models import model_from_json, Model\n",
    "# Create our dense layer model\n",
    "# Load model\n",
    "# Load model\n",
    "json_model = open('ocr14_model2_epochs50_acc91.json')\n",
    "ld_model = json_model.read()\n",
    "json_model.close()\n",
    "model = model_from_json(ld_model)\n",
    "model.load_weights('ocr14_model2_epochs50_acc91.h5')\n",
    "model.compile(loss='categorical_crossentropy', optimizer='adam', metrics=['accuracy'])\n",
    "model.summary()"
   ]
  },
  {
   "cell_type": "code",
   "execution_count": 7,
   "metadata": {},
   "outputs": [],
   "source": [
    "# get previous dense layer\n",
    "layer_name = 'dense_1'\n",
    "dense_model = Model(inputs=model.input, outputs=model.get_layer(layer_name).output)"
   ]
  },
  {
   "cell_type": "code",
   "execution_count": 68,
   "metadata": {},
   "outputs": [],
   "source": [
    "import cv2\n",
    "def preprocess_image(image, dense_model,thresh=False):\n",
    "    img = cv2.imread(image, 0)\n",
    "    img = cv2.resize(img, (28,28))\n",
    "    if thresh:\n",
    "        img = cv2.threshold(img, 170, 255, cv2.THRESH_BINARY_INV + cv2.THRESH_OTSU)[1]\n",
    "    img = np.array(img).astype('float32') / 255\n",
    "    feature = dense_model.predict(img.reshape((1,28,28,1)))\n",
    "    return feature"
   ]
  },
  {
   "cell_type": "code",
   "execution_count": 84,
   "metadata": {},
   "outputs": [],
   "source": [
    "predict_function = tf.estimator.inputs.numpy_input_fn(x={'x':preprocess_image('test.jpg', dense_model, thresh=True)}, batch_size=1,\n",
    "                                                      shuffle=False)\n",
    "\n",
    "prediction = classifier.predict(predict_function)"
   ]
  },
  {
   "cell_type": "code",
   "execution_count": 85,
   "metadata": {},
   "outputs": [
    {
     "name": "stdout",
     "output_type": "stream",
     "text": [
      "INFO:tensorflow:Restoring parameters from ./modelEstimator/model.ckpt-18000\n",
      "0\n",
      "\n",
      "{'logits': array([  0.97141874,  -0.23247345,  -2.0152378 ,  -1.355532  ,\n",
      "        -7.569957  ,  -2.8298798 ,  -5.443275  ,  -3.8758283 ,\n",
      "         1.1189146 ,  -2.806832  ,  -7.4713454 ,  -4.74822   ,\n",
      "        -5.8871894 ,  -6.151943  ,  -4.698034  ,  -5.774759  ,\n",
      "        -6.495356  ,  -3.9996314 ,  -5.4553275 ,  -1.9027307 ,\n",
      "        -7.884836  ,  -6.67233   ,  -4.308991  ,  -6.1347914 ,\n",
      "        -5.2426043 ,  -9.344437  , -10.81913   ,  -5.4914203 ,\n",
      "        -6.599637  ,  -5.810805  , -12.276272  ,  -4.172362  ,\n",
      "       -10.611944  , -12.166887  ,  -2.0750823 ,  -5.9174237 ,\n",
      "        -8.55496   ,  -9.174074  ,  -9.154062  ,  -8.418026  ,\n",
      "        -4.69443   ,  -5.2285876 ,  -9.757413  ,  -8.518563  ,\n",
      "        -3.5454464 ,  -6.5557394 ,  -8.45354   ,  -6.373823  ,\n",
      "        -8.450147  ,  -7.892502  ,  -7.2392626 ,  -4.8538866 ],\n",
      "      dtype=float32), 'probabilities': array([3.53971034e-01, 1.06199875e-01, 1.78599115e-02, 3.45450453e-02,\n",
      "       6.91027744e-05, 7.90832937e-03, 5.79564308e-04, 2.77865794e-03,\n",
      "       4.10227120e-01, 8.09271540e-03, 7.62644268e-05, 1.16134214e-03,\n",
      "       3.71802307e-04, 2.85319140e-04, 1.22111279e-03, 4.16044757e-04,\n",
      "       2.02389812e-04, 2.45509390e-03, 5.72621066e-04, 1.99866723e-02,\n",
      "       5.04365125e-05, 1.69562525e-04, 1.80183456e-03, 2.90255120e-04,\n",
      "       7.08356383e-04, 1.17178697e-05, 2.68162171e-06, 5.52322075e-04,\n",
      "       1.82347576e-04, 4.01315076e-04, 6.24552342e-07, 2.06562830e-03,\n",
      "       3.29896056e-06, 6.96745133e-07, 1.68224461e-02, 3.60729318e-04,\n",
      "       2.58055952e-05, 1.38942823e-05, 1.41751352e-05, 2.95926384e-05,\n",
      "       1.22552156e-03, 7.18355062e-04, 7.75345598e-06, 2.67621454e-05,\n",
      "       3.86650115e-03, 1.90530496e-04, 2.85601309e-05, 2.28543955e-04,\n",
      "       2.86572067e-05, 5.00513670e-05, 9.61865007e-05, 1.04488805e-03],\n",
      "      dtype=float32), 'class_ids': array([8], dtype=int64), 'classes': array([b'8'], dtype=object)}\n"
     ]
    }
   ],
   "source": [
    "for i,l in enumerate(prediction):\n",
    "    print(i)\n",
    "    print()\n",
    "    print(l)"
   ]
  }
 ],
 "metadata": {
  "kernelspec": {
   "display_name": "Python 3",
   "language": "python",
   "name": "python3"
  },
  "language_info": {
   "codemirror_mode": {
    "name": "ipython",
    "version": 3
   },
   "file_extension": ".py",
   "mimetype": "text/x-python",
   "name": "python",
   "nbconvert_exporter": "python",
   "pygments_lexer": "ipython3",
   "version": "3.6.4"
  }
 },
 "nbformat": 4,
 "nbformat_minor": 2
}
