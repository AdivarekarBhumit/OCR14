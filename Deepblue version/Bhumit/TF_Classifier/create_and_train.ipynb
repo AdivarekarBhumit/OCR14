{
 "cells": [
  {
   "cell_type": "code",
   "execution_count": 2,
   "metadata": {},
   "outputs": [
    {
     "name": "stderr",
     "output_type": "stream",
     "text": [
      "C:\\Users\\Bhumit\\Anaconda3\\lib\\site-packages\\h5py\\__init__.py:36: FutureWarning: Conversion of the second argument of issubdtype from `float` to `np.floating` is deprecated. In future, it will be treated as `np.float64 == np.dtype(float).type`.\n",
      "  from ._conv import register_converters as _register_converters\n",
      "Using TensorFlow backend.\n"
     ]
    }
   ],
   "source": [
    "import tensorflow as tf\n",
    "import numpy as np\n",
    "import cv2\n",
    "import os\n",
    "import keras\n",
    "from keras.models import Sequential, model_from_json\n",
    "from keras.layers import Conv2D, MaxPool2D, Dense, Flatten, Dropout\n",
    "from keras.utils import to_categorical\n",
    "from sklearn.utils import shuffle\n",
    "from sklearn.model_selection import train_test_split"
   ]
  },
  {
   "cell_type": "code",
   "execution_count": 4,
   "metadata": {},
   "outputs": [
    {
     "data": {
      "text/plain": [
       "['0',\n",
       " '1',\n",
       " '2',\n",
       " '3',\n",
       " '4',\n",
       " '5',\n",
       " '6',\n",
       " '7',\n",
       " '8',\n",
       " '9',\n",
       " 'a',\n",
       " 'b',\n",
       " 'd',\n",
       " 'e',\n",
       " 'f',\n",
       " 'g',\n",
       " 'h',\n",
       " 'i',\n",
       " 'j',\n",
       " 'l',\n",
       " 'm',\n",
       " 'n',\n",
       " 'q',\n",
       " 'r',\n",
       " 't',\n",
       " 'y',\n",
       " '_A',\n",
       " '_B',\n",
       " '_C',\n",
       " '_D',\n",
       " '_E',\n",
       " '_F',\n",
       " '_G',\n",
       " '_H',\n",
       " '_I',\n",
       " '_J',\n",
       " '_K',\n",
       " '_L',\n",
       " '_M',\n",
       " '_N',\n",
       " '_O',\n",
       " '_P',\n",
       " '_Q',\n",
       " '_R',\n",
       " '_S',\n",
       " '_T',\n",
       " '_U',\n",
       " '_V',\n",
       " '_W',\n",
       " '_X',\n",
       " '_Y',\n",
       " '_Z']"
      ]
     },
     "execution_count": 4,
     "metadata": {},
     "output_type": "execute_result"
    }
   ],
   "source": [
    "# Set dir path and get images\n",
    "path = os.getcwd()\n",
    "train = path + '/data'\n",
    "train_dir_list = os.listdir(train)\n",
    "train_dir_list"
   ]
  },
  {
   "cell_type": "code",
   "execution_count": null,
   "metadata": {},
   "outputs": [],
   "source": [
    "train_dir_list[31]"
   ]
  },
  {
   "cell_type": "code",
   "execution_count": null,
   "metadata": {},
   "outputs": [],
   "source": [
    "train_images_list = []\n",
    "label = 0\n",
    "labels = []\n",
    "\n",
    "for folder in train_dir_list:\n",
    "    img_list = os.listdir(train + '/' + folder)\n",
    "    print('Working Folder:',folder)\n",
    "    for img in img_list:\n",
    "        ip_img = cv2.imread(train + '/' + folder + '/' + img, 0)\n",
    "        ip_img = cv2.resize(ip_img, (28,28))\n",
    "        labels.append(label)\n",
    "        train_images_list.append(ip_img)\n",
    "    label += 1"
   ]
  },
  {
   "cell_type": "code",
   "execution_count": null,
   "metadata": {},
   "outputs": [],
   "source": [
    "# Convert to array\n",
    "train = np.array(train_images_list).astype(np.float32)\n",
    "labels = np.array(labels)\n",
    "train /= 255\n",
    "#Convert to categorical\n",
    "labels = to_categorical(labels, 52)\n",
    "train = train.reshape((train.shape[0], 28, 28, 1))\n",
    "train.shape"
   ]
  },
  {
   "cell_type": "code",
   "execution_count": null,
   "metadata": {},
   "outputs": [],
   "source": [
    "np.save('train_data.npy', train)\n",
    "np.save('labels.npy', labels)"
   ]
  },
  {
   "cell_type": "code",
   "execution_count": 5,
   "metadata": {},
   "outputs": [],
   "source": [
    "x, y = shuffle(np.load('train_data.npy'), np.load('labels.npy'), random_state=5)\n",
    "x_train, x_test, y_train, y_test = train_test_split(x, y, test_size=0.3)"
   ]
  },
  {
   "cell_type": "code",
   "execution_count": null,
   "metadata": {},
   "outputs": [],
   "source": [
    "x_train.shape"
   ]
  },
  {
   "cell_type": "code",
   "execution_count": null,
   "metadata": {},
   "outputs": [],
   "source": [
    "x_test.shape"
   ]
  },
  {
   "cell_type": "code",
   "execution_count": 4,
   "metadata": {},
   "outputs": [
    {
     "name": "stdout",
     "output_type": "stream",
     "text": [
      "_________________________________________________________________\n",
      "Layer (type)                 Output Shape              Param #   \n",
      "=================================================================\n",
      "conv2d_1 (Conv2D)            (None, 26, 26, 32)        320       \n",
      "_________________________________________________________________\n",
      "max_pooling2d_1 (MaxPooling2 (None, 13, 13, 32)        0         \n",
      "_________________________________________________________________\n",
      "dropout_1 (Dropout)          (None, 13, 13, 32)        0         \n",
      "_________________________________________________________________\n",
      "conv2d_2 (Conv2D)            (None, 11, 11, 64)        18496     \n",
      "_________________________________________________________________\n",
      "max_pooling2d_2 (MaxPooling2 (None, 5, 5, 64)          0         \n",
      "_________________________________________________________________\n",
      "dropout_2 (Dropout)          (None, 5, 5, 64)          0         \n",
      "_________________________________________________________________\n",
      "conv2d_3 (Conv2D)            (None, 3, 3, 128)         73856     \n",
      "_________________________________________________________________\n",
      "dropout_3 (Dropout)          (None, 3, 3, 128)         0         \n",
      "_________________________________________________________________\n",
      "flatten_1 (Flatten)          (None, 1152)              0         \n",
      "_________________________________________________________________\n",
      "dense_1 (Dense)              (None, 784)               903952    \n",
      "_________________________________________________________________\n",
      "dense_2 (Dense)              (None, 52)                40820     \n",
      "=================================================================\n",
      "Total params: 1,037,444\n",
      "Trainable params: 1,037,444\n",
      "Non-trainable params: 0\n",
      "_________________________________________________________________\n"
     ]
    }
   ],
   "source": [
    "# Now create our model\n",
    "tf.reset_default_graph()\n",
    "\n",
    "'''model = Sequential()\n",
    "model.add(Conv2D(32, (3,3), activation='relu', input_shape=(28,28,1)))\n",
    "model.add(MaxPool2D(pool_size=(2,2)))\n",
    "model.add(Dropout(0.5))\n",
    "model.add(Conv2D(64, (3,3), activation='relu'))\n",
    "model.add(MaxPool2D(pool_size=(2,2)))\n",
    "model.add(Dropout(0.5))\n",
    "model.add(Flatten())\n",
    "model.add(Dense(128,activation='relu'))\n",
    "model.add(Dropout(0.3))\n",
    "model.add(Dense(52, activation='softmax'))\n",
    "model.compile(loss='categorical_crossentropy', optimizer='adadelta', metrics=['accuracy'])'''\n",
    "\n",
    "model = Sequential()\n",
    "model.add(Conv2D(32, (3,3), strides=(1,1),activation='relu', input_shape=(28,28,1)))\n",
    "model.add(MaxPool2D(pool_size=(2,2)))\n",
    "model.add(Dropout(0.5))\n",
    "model.add(Conv2D(64 ,(3,3),strides=(1,1), activation='relu'))\n",
    "model.add(MaxPool2D(pool_size=(2,2)))\n",
    "model.add(Dropout(0.5))\n",
    "model.add(Conv2D(128, (3,3), activation='relu'))\n",
    "model.add(Dropout(0.5))\n",
    "model.add(Flatten())\n",
    "model.add(Dense(784, activation='relu'))\n",
    "model.add(Dense(52, activation='softmax'))\n",
    "model.compile(loss='categorical_crossentropy', optimizer='adam', metrics=['accuracy'])\n",
    "model.summary()"
   ]
  },
  {
   "cell_type": "code",
   "execution_count": 8,
   "metadata": {},
   "outputs": [
    {
     "name": "stdout",
     "output_type": "stream",
     "text": [
      "Train on 729472 samples, validate on 312632 samples\n",
      "Epoch 1/5\n",
      "729472/729472 [==============================] - 335s 460us/step - loss: 0.3596 - acc: 0.8684 - val_loss: 0.2669 - val_acc: 0.8975\n",
      "Epoch 2/5\n",
      "729472/729472 [==============================] - 338s 463us/step - loss: 0.3548 - acc: 0.8701 - val_loss: 0.2664 - val_acc: 0.8992\n",
      "Epoch 3/5\n",
      "729472/729472 [==============================] - 337s 462us/step - loss: 0.3498 - acc: 0.8719 - val_loss: 0.2641 - val_acc: 0.9009\n",
      "Epoch 4/5\n",
      "729472/729472 [==============================] - 342s 468us/step - loss: 0.3465 - acc: 0.8730 - val_loss: 0.2598 - val_acc: 0.9025\n",
      "Epoch 5/5\n",
      "729472/729472 [==============================] - 339s 465us/step - loss: 0.3432 - acc: 0.8741 - val_loss: 0.2603 - val_acc: 0.9021\n"
     ]
    }
   ],
   "source": [
    "history = model.fit(x_train, y_train, batch_size=500, epochs=5, verbose=1, validation_data=(x_test,y_test))"
   ]
  },
  {
   "cell_type": "code",
   "execution_count": 9,
   "metadata": {},
   "outputs": [],
   "source": [
    "# Save model to json\n",
    "j_model = model.to_json()\n",
    "with open('ocr14_model2_epochs15_acc90-.json', 'w') as f:\n",
    "    f.write(j_model)\n",
    "model.save_weights('ocr14_model2_epochs15_acc90-.h5')"
   ]
  },
  {
   "cell_type": "code",
   "execution_count": 10,
   "metadata": {},
   "outputs": [
    {
     "name": "stdout",
     "output_type": "stream",
     "text": [
      "Train on 729472 samples, validate on 312632 samples\n",
      "Epoch 1/5\n",
      "729472/729472 [==============================] - 333s 456us/step - loss: 0.3409 - acc: 0.8751 - val_loss: 0.2576 - val_acc: 0.9032\n",
      "Epoch 2/5\n",
      "729472/729472 [==============================] - 335s 460us/step - loss: 0.3379 - acc: 0.8757 - val_loss: 0.2634 - val_acc: 0.9010\n",
      "Epoch 3/5\n",
      "729472/729472 [==============================] - 335s 459us/step - loss: 0.3357 - acc: 0.8766 - val_loss: 0.2579 - val_acc: 0.9026\n",
      "Epoch 4/5\n",
      "729472/729472 [==============================] - 335s 460us/step - loss: 0.3337 - acc: 0.8768 - val_loss: 0.2554 - val_acc: 0.9038\n",
      "Epoch 5/5\n",
      "729472/729472 [==============================] - 333s 457us/step - loss: 0.3316 - acc: 0.8779 - val_loss: 0.2535 - val_acc: 0.9040\n"
     ]
    }
   ],
   "source": [
    "history = model.fit(x_train, y_train, batch_size=500, epochs=5, verbose=1, validation_data=(x_test,y_test))"
   ]
  },
  {
   "cell_type": "code",
   "execution_count": 11,
   "metadata": {},
   "outputs": [],
   "source": [
    "# Save model to json\n",
    "j_model = model.to_json()\n",
    "with open('ocr14_model2_epochs20_acc90-.json', 'w') as f:\n",
    "    f.write(j_model)\n",
    "model.save_weights('ocr14_model2_epochs20_acc90-.h5')"
   ]
  },
  {
   "cell_type": "code",
   "execution_count": 7,
   "metadata": {},
   "outputs": [
    {
     "name": "stdout",
     "output_type": "stream",
     "text": [
      "_________________________________________________________________\n",
      "Layer (type)                 Output Shape              Param #   \n",
      "=================================================================\n",
      "conv2d_1 (Conv2D)            (None, 26, 26, 32)        320       \n",
      "_________________________________________________________________\n",
      "max_pooling2d_1 (MaxPooling2 (None, 13, 13, 32)        0         \n",
      "_________________________________________________________________\n",
      "dropout_1 (Dropout)          (None, 13, 13, 32)        0         \n",
      "_________________________________________________________________\n",
      "conv2d_2 (Conv2D)            (None, 11, 11, 64)        18496     \n",
      "_________________________________________________________________\n",
      "max_pooling2d_2 (MaxPooling2 (None, 5, 5, 64)          0         \n",
      "_________________________________________________________________\n",
      "dropout_2 (Dropout)          (None, 5, 5, 64)          0         \n",
      "_________________________________________________________________\n",
      "conv2d_3 (Conv2D)            (None, 3, 3, 128)         73856     \n",
      "_________________________________________________________________\n",
      "dropout_3 (Dropout)          (None, 3, 3, 128)         0         \n",
      "_________________________________________________________________\n",
      "flatten_1 (Flatten)          (None, 1152)              0         \n",
      "_________________________________________________________________\n",
      "dense_1 (Dense)              (None, 784)               903952    \n",
      "_________________________________________________________________\n",
      "dense_2 (Dense)              (None, 52)                40820     \n",
      "=================================================================\n",
      "Total params: 1,037,444\n",
      "Trainable params: 1,037,444\n",
      "Non-trainable params: 0\n",
      "_________________________________________________________________\n"
     ]
    }
   ],
   "source": [
    "# Load model\n",
    "# Load model\n",
    "json_model = open('ocr14_model2_epochs20_acc90-.json')\n",
    "ld_model = json_model.read()\n",
    "json_model.close()\n",
    "model = model_from_json(ld_model)\n",
    "model.load_weights('ocr14_model2_epochs20_acc90-.h5')\n",
    "model.compile(loss='categorical_crossentropy', optimizer='adam', metrics=['accuracy'])\n",
    "model.summary()"
   ]
  },
  {
   "cell_type": "code",
   "execution_count": 8,
   "metadata": {},
   "outputs": [
    {
     "name": "stdout",
     "output_type": "stream",
     "text": [
      "Train on 729472 samples, validate on 312632 samples\n",
      "Epoch 1/5\n",
      "729472/729472 [==============================] - 330s 453us/step - loss: 0.3373 - acc: 0.8766 - val_loss: 0.2367 - val_acc: 0.9093\n",
      "Epoch 2/5\n",
      "729472/729472 [==============================] - 329s 450us/step - loss: 0.3320 - acc: 0.8777 - val_loss: 0.2425 - val_acc: 0.9065\n",
      "Epoch 3/5\n",
      "729472/729472 [==============================] - 328s 450us/step - loss: 0.3304 - acc: 0.8785 - val_loss: 0.2395 - val_acc: 0.9080\n",
      "Epoch 4/5\n",
      "729472/729472 [==============================] - 329s 450us/step - loss: 0.3293 - acc: 0.8782 - val_loss: 0.2402 - val_acc: 0.9085\n",
      "Epoch 5/5\n",
      "729472/729472 [==============================] - 330s 452us/step - loss: 0.3257 - acc: 0.8798 - val_loss: 0.2415 - val_acc: 0.9074\n"
     ]
    }
   ],
   "source": [
    "#25th epochs result\n",
    "history = model.fit(x_train, y_train, batch_size=500, epochs=5, verbose=1, validation_data=(x_test,y_test))"
   ]
  },
  {
   "cell_type": "code",
   "execution_count": 19,
   "metadata": {},
   "outputs": [],
   "source": [
    "# Save model to json\n",
    "j_model = model.to_json()\n",
    "with open('ocr14_model2_epochs25_acc90-.json', 'w') as f:\n",
    "    f.write(j_model)\n",
    "model.save_weights('ocr14_model2_epochs25_acc90-.h5')"
   ]
  },
  {
   "cell_type": "code",
   "execution_count": 20,
   "metadata": {},
   "outputs": [
    {
     "name": "stdout",
     "output_type": "stream",
     "text": [
      "Train on 729472 samples, validate on 312632 samples\n",
      "Epoch 1/10\n",
      "729472/729472 [==============================] - 327s 448us/step - loss: 0.3258 - acc: 0.8796 - val_loss: 0.2443 - val_acc: 0.9069\n",
      "Epoch 2/10\n",
      "729472/729472 [==============================] - 327s 448us/step - loss: 0.3228 - acc: 0.8808 - val_loss: 0.2401 - val_acc: 0.9084\n",
      "Epoch 3/10\n",
      "729472/729472 [==============================] - 326s 447us/step - loss: 0.3221 - acc: 0.8809 - val_loss: 0.2388 - val_acc: 0.9093\n",
      "Epoch 4/10\n",
      "729472/729472 [==============================] - 327s 448us/step - loss: 0.3218 - acc: 0.8804 - val_loss: 0.2421 - val_acc: 0.9075\n",
      "Epoch 5/10\n",
      "729472/729472 [==============================] - 327s 448us/step - loss: 0.3200 - acc: 0.8812 - val_loss: 0.2369 - val_acc: 0.9097\n",
      "Epoch 6/10\n",
      "729472/729472 [==============================] - 338s 464us/step - loss: 0.3194 - acc: 0.8815 - val_loss: 0.2404 - val_acc: 0.9082\n",
      "Epoch 7/10\n",
      "729472/729472 [==============================] - 338s 463us/step - loss: 0.3189 - acc: 0.8818 - val_loss: 0.2429 - val_acc: 0.9076\n",
      "Epoch 8/10\n",
      "729472/729472 [==============================] - 328s 449us/step - loss: 0.3184 - acc: 0.8818 - val_loss: 0.2396 - val_acc: 0.9091\n",
      "Epoch 9/10\n",
      "729472/729472 [==============================] - 328s 449us/step - loss: 0.3170 - acc: 0.8822 - val_loss: 0.2379 - val_acc: 0.9088\n",
      "Epoch 10/10\n",
      "729472/729472 [==============================] - 328s 450us/step - loss: 0.3159 - acc: 0.8829 - val_loss: 0.2454 - val_acc: 0.9066\n"
     ]
    }
   ],
   "source": [
    "#35th epochs result\n",
    "history = model.fit(x_train, y_train, batch_size=500, epochs=10, verbose=1, validation_data=(x_test,y_test))"
   ]
  },
  {
   "cell_type": "code",
   "execution_count": 21,
   "metadata": {},
   "outputs": [],
   "source": [
    "# Save model to json\n",
    "j_model = model.to_json()\n",
    "with open('ocr14_model2_epochs35_acc90.json', 'w') as f:\n",
    "    f.write(j_model)\n",
    "model.save_weights('ocr14_model2_epochs35_acc90.h5')"
   ]
  },
  {
   "cell_type": "code",
   "execution_count": 23,
   "metadata": {},
   "outputs": [
    {
     "data": {
      "text/plain": [
       "array([46], dtype=int64)"
      ]
     },
     "execution_count": 23,
     "metadata": {},
     "output_type": "execute_result"
    }
   ],
   "source": [
    "img = cv2.imread('4_test.png', 0)\n",
    "img = np.array(img).astype('float32')\n",
    "img /= 255\n",
    "model.predict_classes(img.reshape((1,28,28,1)))"
   ]
  }
 ],
 "metadata": {
  "kernelspec": {
   "display_name": "Python 3",
   "language": "python",
   "name": "python3"
  },
  "language_info": {
   "codemirror_mode": {
    "name": "ipython",
    "version": 3
   },
   "file_extension": ".py",
   "mimetype": "text/x-python",
   "name": "python",
   "nbconvert_exporter": "python",
   "pygments_lexer": "ipython3",
   "version": "3.6.4"
  }
 },
 "nbformat": 4,
 "nbformat_minor": 2
}
