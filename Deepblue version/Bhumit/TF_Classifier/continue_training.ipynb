{
 "cells": [
  {
   "cell_type": "code",
   "execution_count": 1,
   "metadata": {},
   "outputs": [
    {
     "name": "stderr",
     "output_type": "stream",
     "text": [
      "C:\\Users\\Bhumit\\Anaconda3\\lib\\site-packages\\h5py\\__init__.py:36: FutureWarning: Conversion of the second argument of issubdtype from `float` to `np.floating` is deprecated. In future, it will be treated as `np.float64 == np.dtype(float).type`.\n",
      "  from ._conv import register_converters as _register_converters\n",
      "Using TensorFlow backend.\n"
     ]
    }
   ],
   "source": [
    "import keras\n",
    "import sklearn\n",
    "import numpy as np\n",
    "import cv2\n",
    "import tensorflow as tf\n",
    "from keras.models import model_from_json"
   ]
  },
  {
   "cell_type": "code",
   "execution_count": 2,
   "metadata": {},
   "outputs": [],
   "source": [
    "# Load model\n",
    "json_model = open('ocr14_model_acc-90v3.json')\n",
    "ld_model = json_model.read()\n",
    "json_model.close()\n",
    "model = model_from_json(ld_model)\n",
    "model.load_weights('ocr14_model_acc-90v3.h5')"
   ]
  },
  {
   "cell_type": "code",
   "execution_count": 3,
   "metadata": {},
   "outputs": [
    {
     "name": "stdout",
     "output_type": "stream",
     "text": [
      "_________________________________________________________________\n",
      "Layer (type)                 Output Shape              Param #   \n",
      "=================================================================\n",
      "conv2d_1 (Conv2D)            (None, 26, 26, 32)        320       \n",
      "_________________________________________________________________\n",
      "max_pooling2d_1 (MaxPooling2 (None, 13, 13, 32)        0         \n",
      "_________________________________________________________________\n",
      "dropout_1 (Dropout)          (None, 13, 13, 32)        0         \n",
      "_________________________________________________________________\n",
      "conv2d_2 (Conv2D)            (None, 11, 11, 64)        18496     \n",
      "_________________________________________________________________\n",
      "max_pooling2d_2 (MaxPooling2 (None, 5, 5, 64)          0         \n",
      "_________________________________________________________________\n",
      "dropout_2 (Dropout)          (None, 5, 5, 64)          0         \n",
      "_________________________________________________________________\n",
      "conv2d_3 (Conv2D)            (None, 3, 3, 128)         73856     \n",
      "_________________________________________________________________\n",
      "dropout_3 (Dropout)          (None, 3, 3, 128)         0         \n",
      "_________________________________________________________________\n",
      "flatten_1 (Flatten)          (None, 1152)              0         \n",
      "_________________________________________________________________\n",
      "dense_1 (Dense)              (None, 312)               359736    \n",
      "_________________________________________________________________\n",
      "dense_2 (Dense)              (None, 52)                16276     \n",
      "=================================================================\n",
      "Total params: 468,684\n",
      "Trainable params: 468,684\n",
      "Non-trainable params: 0\n",
      "_________________________________________________________________\n"
     ]
    }
   ],
   "source": [
    "model.compile(loss='categorical_crossentropy', optimizer='adam', metrics=['accuracy'])\n",
    "model.summary()"
   ]
  },
  {
   "cell_type": "code",
   "execution_count": 4,
   "metadata": {},
   "outputs": [
    {
     "data": {
      "text/plain": [
       "['0',\n",
       " '1',\n",
       " '2',\n",
       " '3',\n",
       " '4',\n",
       " '5',\n",
       " '6',\n",
       " '7',\n",
       " '8',\n",
       " '9',\n",
       " 'a',\n",
       " 'b',\n",
       " 'd',\n",
       " 'e',\n",
       " 'f',\n",
       " 'g',\n",
       " 'h',\n",
       " 'i',\n",
       " 'j',\n",
       " 'l',\n",
       " 'm',\n",
       " 'n',\n",
       " 'q',\n",
       " 'r',\n",
       " 't',\n",
       " 'y',\n",
       " '_A',\n",
       " '_B',\n",
       " '_C',\n",
       " '_D',\n",
       " '_E',\n",
       " '_F',\n",
       " '_G',\n",
       " '_H',\n",
       " '_I',\n",
       " '_J',\n",
       " '_K',\n",
       " '_L',\n",
       " '_M',\n",
       " '_N',\n",
       " '_O',\n",
       " '_P',\n",
       " '_Q',\n",
       " '_R',\n",
       " '_S',\n",
       " '_T',\n",
       " '_U',\n",
       " '_V',\n",
       " '_W',\n",
       " '_X',\n",
       " '_Y',\n",
       " '_Z']"
      ]
     },
     "execution_count": 4,
     "metadata": {},
     "output_type": "execute_result"
    }
   ],
   "source": [
    "# Set dir path and get images\n",
    "import os\n",
    "path = os.getcwd()\n",
    "train = path + '/data'\n",
    "train_dir_list = os.listdir(train)\n",
    "train_dir_list"
   ]
  },
  {
   "cell_type": "code",
   "execution_count": 5,
   "metadata": {},
   "outputs": [],
   "source": [
    "# load data\n",
    "from sklearn.utils import shuffle\n",
    "from sklearn.model_selection import train_test_split\n",
    "x, y = shuffle(np.load('train_data.npy'), np.load('labels.npy'), random_state=5)\n",
    "x_train, x_test, y_train, y_test = train_test_split(x, y, test_size=0.3)"
   ]
  },
  {
   "cell_type": "code",
   "execution_count": 12,
   "metadata": {},
   "outputs": [
    {
     "name": "stdout",
     "output_type": "stream",
     "text": [
      "Train on 729472 samples, validate on 312632 samples\n",
      "Epoch 1/5\n",
      "729472/729472 [==============================] - 465s 637us/step - loss: 0.3522 - acc: 0.8726 - val_loss: 0.2583 - val_acc: 0.9032\n",
      "Epoch 2/5\n",
      "729472/729472 [==============================] - 461s 632us/step - loss: 0.3513 - acc: 0.8728 - val_loss: 0.2630 - val_acc: 0.9005\n",
      "Epoch 3/5\n",
      "729472/729472 [==============================] - 376s 515us/step - loss: 0.3504 - acc: 0.8731 - val_loss: 0.2573 - val_acc: 0.9035\n",
      "Epoch 4/5\n",
      "729472/729472 [==============================] - 313s 429us/step - loss: 0.3493 - acc: 0.8732 - val_loss: 0.2604 - val_acc: 0.9016\n",
      "Epoch 5/5\n",
      "729472/729472 [==============================] - 313s 429us/step - loss: 0.3485 - acc: 0.8734 - val_loss: 0.2550 - val_acc: 0.9037\n"
     ]
    }
   ],
   "source": [
    "#previous run\n",
    "history = model.fit(x_train, y_train, batch_size=500, epochs=5, verbose=1, validation_data=(x_test,y_test))"
   ]
  },
  {
   "cell_type": "code",
   "execution_count": 13,
   "metadata": {},
   "outputs": [],
   "source": [
    "# Save model to json 3rd version\n",
    "j_model = model.to_json()\n",
    "with open('ocr14_model_acc-90v3.json', 'w') as f:\n",
    "    f.write(j_model)\n",
    "model.save_weights('ocr14_model_acc-90v3.h5')"
   ]
  },
  {
   "cell_type": "code",
   "execution_count": 6,
   "metadata": {},
   "outputs": [
    {
     "name": "stdout",
     "output_type": "stream",
     "text": [
      "Train on 729472 samples, validate on 312632 samples\n",
      "Epoch 1/5\n",
      "729472/729472 [==============================] - 330s 452us/step - loss: 0.3506 - acc: 0.8732 - val_loss: 0.2539 - val_acc: 0.9036\n",
      "Epoch 2/5\n",
      "729472/729472 [==============================] - 314s 430us/step - loss: 0.3469 - acc: 0.8745 - val_loss: 0.2563 - val_acc: 0.9032\n",
      "Epoch 3/5\n",
      "729472/729472 [==============================] - 314s 431us/step - loss: 0.3456 - acc: 0.8741 - val_loss: 0.2570 - val_acc: 0.9030\n",
      "Epoch 4/5\n",
      "729472/729472 [==============================] - 315s 431us/step - loss: 0.3448 - acc: 0.8747 - val_loss: 0.2501 - val_acc: 0.9059\n",
      "Epoch 5/5\n",
      "729472/729472 [==============================] - 313s 430us/step - loss: 0.3429 - acc: 0.8752 - val_loss: 0.2508 - val_acc: 0.9050\n"
     ]
    }
   ],
   "source": [
    "# first load latest \n",
    "# new run\n",
    "history = model.fit(x_train, y_train, batch_size=500, epochs=5, verbose=1, validation_data=(x_test,y_test))"
   ]
  },
  {
   "cell_type": "code",
   "execution_count": 7,
   "metadata": {},
   "outputs": [],
   "source": [
    "# Save model to json 4rd version\n",
    "j_model = model.to_json()\n",
    "with open('ocr14_model_acc-90v4.json', 'w') as f:\n",
    "    f.write(j_model)\n",
    "model.save_weights('ocr14_model_acc-90v4.h5')"
   ]
  },
  {
   "cell_type": "code",
   "execution_count": 8,
   "metadata": {},
   "outputs": [
    {
     "name": "stdout",
     "output_type": "stream",
     "text": [
      "Train on 729472 samples, validate on 312632 samples\n",
      "Epoch 1/5\n",
      "729472/729472 [==============================] - 314s 430us/step - loss: 0.3415 - acc: 0.8756 - val_loss: 0.2517 - val_acc: 0.9049\n",
      "Epoch 2/5\n",
      "729472/729472 [==============================] - 314s 430us/step - loss: 0.3403 - acc: 0.8763 - val_loss: 0.2534 - val_acc: 0.9048\n",
      "Epoch 3/5\n",
      "729472/729472 [==============================] - 314s 430us/step - loss: 0.3398 - acc: 0.8765 - val_loss: 0.2514 - val_acc: 0.9057\n",
      "Epoch 4/5\n",
      "729472/729472 [==============================] - 314s 430us/step - loss: 0.3391 - acc: 0.8764 - val_loss: 0.2528 - val_acc: 0.9045\n",
      "Epoch 5/5\n",
      "729472/729472 [==============================] - 313s 430us/step - loss: 0.3382 - acc: 0.8770 - val_loss: 0.2511 - val_acc: 0.9057\n"
     ]
    }
   ],
   "source": [
    "# first load latest \n",
    "# new run\n",
    "history = model.fit(x_train, y_train, batch_size=500, epochs=5, verbose=1, validation_data=(x_test,y_test))"
   ]
  },
  {
   "cell_type": "code",
   "execution_count": 9,
   "metadata": {},
   "outputs": [],
   "source": [
    "# Save model to json 5th version\n",
    "j_model = model.to_json()\n",
    "with open('ocr14_model_acc-90v5.json', 'w') as f:\n",
    "    f.write(j_model)\n",
    "model.save_weights('ocr14_model_acc-90v5.h5')"
   ]
  }
 ],
 "metadata": {
  "kernelspec": {
   "display_name": "Python 3",
   "language": "python",
   "name": "python3"
  },
  "language_info": {
   "codemirror_mode": {
    "name": "ipython",
    "version": 3
   },
   "file_extension": ".py",
   "mimetype": "text/x-python",
   "name": "python",
   "nbconvert_exporter": "python",
   "pygments_lexer": "ipython3",
   "version": "3.6.4"
  }
 },
 "nbformat": 4,
 "nbformat_minor": 2
}
