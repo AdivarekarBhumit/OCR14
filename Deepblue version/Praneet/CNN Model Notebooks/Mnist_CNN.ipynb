{
 "cells": [
  {
   "cell_type": "code",
   "execution_count": 1,
   "metadata": {
    "collapsed": false
   },
   "outputs": [
    {
     "name": "stderr",
     "output_type": "stream",
     "text": [
      "Using TensorFlow backend.\n"
     ]
    }
   ],
   "source": [
    "import tensorflow as tf\n",
    "import numpy as np\n",
    "import keras\n",
    "from keras.models import Sequential\n",
    "from keras.layers import Dense, Flatten, Conv2D, MaxPooling2D, Dropout\n",
    "from sklearn.model_selection import train_test_split\n",
    "import cv2\n",
    "import os\n",
    "from keras.utils import to_categorical\n",
    "from keras.optimizers import SGD,RMSprop, adadelta, Adam"
   ]
  },
  {
   "cell_type": "code",
   "execution_count": 2,
   "metadata": {
    "collapsed": false
   },
   "outputs": [
    {
     "name": "stdout",
     "output_type": "stream",
     "text": [
      "['0', '1', '2', '3', '4', '5', '6', '7', '8', '9']\n"
     ]
    }
   ],
   "source": [
    "PATH = os.getcwd()\n",
    "data_path = PATH + './mnist_png/training'\n",
    "data_Dir_list = os.listdir(data_path)\n",
    "print(data_Dir_list)\n",
    "img_row = 28\n",
    "img_col = 28\n",
    "num_channel = 1\n",
    "epoch = 20\n",
    "num_classes = 10"
   ]
  },
  {
   "cell_type": "code",
   "execution_count": 3,
   "metadata": {
    "collapsed": false
   },
   "outputs": [
    {
     "name": "stdout",
     "output_type": "stream",
     "text": [
      "[6903, 14780, 21770, 28911, 35735, 42048, 48924, 56217, 63042, 70000]\n"
     ]
    }
   ],
   "source": [
    "img_data_list = []\n",
    "images = []\n",
    "i = 0\n",
    "\n",
    "for dataset in data_Dir_list:\n",
    "    img_list = os.listdir(data_path + '/' + dataset)\n",
    "    for img in img_list:\n",
    "        i = i+1\n",
    "        ip_img = cv2.imread(data_path + '/' + dataset + '/' + img)\n",
    "        ip_img = cv2.cvtColor(ip_img, cv2.COLOR_BGR2GRAY)\n",
    "        ip_img = cv2.resize(ip_img, (img_row,img_col))\n",
    "        img_data_list.append(ip_img)\n",
    "    images.append(i)\n",
    "\n",
    "print(images)"
   ]
  },
  {
   "cell_type": "code",
   "execution_count": 4,
   "metadata": {
    "collapsed": false
   },
   "outputs": [
    {
     "data": {
      "text/plain": [
       "(70000, 28, 28)"
      ]
     },
     "execution_count": 4,
     "metadata": {},
     "output_type": "execute_result"
    }
   ],
   "source": [
    "img_data = np.array(img_data_list)\n",
    "img_data = img_data.astype('float32')\n",
    "img_data /= 255\n",
    "img_data.shape"
   ]
  },
  {
   "cell_type": "code",
   "execution_count": 5,
   "metadata": {
    "collapsed": false
   },
   "outputs": [
    {
     "name": "stderr",
     "output_type": "stream",
     "text": [
      "C:\\Users\\Praneet\\Anaconda3\\lib\\site-packages\\ipykernel\\__main__.py:2: DeprecationWarning: Both axis > a.ndim and axis < -a.ndim - 1 are deprecated and will raise an AxisError in the future.\n",
      "  from ipykernel import kernelapp as app\n"
     ]
    },
    {
     "data": {
      "text/plain": [
       "(70000, 28, 28, 1)"
      ]
     },
     "execution_count": 5,
     "metadata": {},
     "output_type": "execute_result"
    }
   ],
   "source": [
    "#Expand dimesnsions\n",
    "img_data= np.expand_dims(img_data, axis=4)\n",
    "img_data.shape"
   ]
  },
  {
   "cell_type": "code",
   "execution_count": 6,
   "metadata": {
    "collapsed": true
   },
   "outputs": [],
   "source": [
    "#Preprocessing\n",
    "n_samples = img_data.shape[0]\n",
    "labels = np.ones((n_samples,), dtype='int64')\n",
    "\n",
    "label_dictionary = {0:'0', 1:'1', 2:'2', 3:'3', 4:'4', 5:'5', 6:'6', 7:'7', 8:'8', 9:'9'}\n",
    "\n",
    "labels[:images[0]] = 0\n",
    "labels[images[0]:images[1]] = 1\n",
    "labels[images[1]:images[2]] = 2\n",
    "labels[images[2]:images[3]] = 3\n",
    "labels[images[3]:images[4]] = 4\n",
    "labels[images[4]:images[5]] = 5\n",
    "labels[images[5]:images[6]] = 6\n",
    "labels[images[6]:images[7]] = 7\n",
    "labels[images[7]:images[8]] = 8\n",
    "labels[images[8]:images[9]] = 9\n",
    "\n",
    "#One-Hot encoded format\n",
    "Y = to_categorical(labels, num_classes)"
   ]
  },
  {
   "cell_type": "code",
   "execution_count": 7,
   "metadata": {
    "collapsed": false
   },
   "outputs": [
    {
     "data": {
      "text/plain": [
       "array([[ 1.,  0.,  0., ...,  0.,  0.,  0.],\n",
       "       [ 1.,  0.,  0., ...,  0.,  0.,  0.],\n",
       "       [ 1.,  0.,  0., ...,  0.,  0.,  0.],\n",
       "       ..., \n",
       "       [ 0.,  0.,  0., ...,  0.,  0.,  1.],\n",
       "       [ 0.,  0.,  0., ...,  0.,  0.,  1.],\n",
       "       [ 0.,  0.,  0., ...,  0.,  0.,  1.]])"
      ]
     },
     "execution_count": 7,
     "metadata": {},
     "output_type": "execute_result"
    }
   ],
   "source": [
    "Y"
   ]
  },
  {
   "cell_type": "code",
   "execution_count": 8,
   "metadata": {
    "collapsed": true
   },
   "outputs": [],
   "source": [
    "#Shuffle data\n",
    "from sklearn.utils import shuffle\n",
    "x, y = shuffle(img_data, Y, random_state=2)\n",
    "#Split Dataset\n",
    "X_train, X_test, Y_train, Y_test = train_test_split(x, y, test_size=0.25, random_state=2)"
   ]
  },
  {
   "cell_type": "code",
   "execution_count": 9,
   "metadata": {
    "collapsed": false
   },
   "outputs": [
    {
     "name": "stdout",
     "output_type": "stream",
     "text": [
      "_________________________________________________________________\n",
      "Layer (type)                 Output Shape              Param #   \n",
      "=================================================================\n",
      "conv2d_1 (Conv2D)            (None, 26, 26, 32)        320       \n",
      "_________________________________________________________________\n",
      "max_pooling2d_1 (MaxPooling2 (None, 13, 13, 32)        0         \n",
      "_________________________________________________________________\n",
      "dropout_1 (Dropout)          (None, 13, 13, 32)        0         \n",
      "_________________________________________________________________\n",
      "conv2d_2 (Conv2D)            (None, 12, 12, 64)        8256      \n",
      "_________________________________________________________________\n",
      "max_pooling2d_2 (MaxPooling2 (None, 6, 6, 64)          0         \n",
      "_________________________________________________________________\n",
      "dropout_2 (Dropout)          (None, 6, 6, 64)          0         \n",
      "_________________________________________________________________\n",
      "conv2d_3 (Conv2D)            (None, 5, 5, 128)         32896     \n",
      "_________________________________________________________________\n",
      "max_pooling2d_3 (MaxPooling2 (None, 2, 2, 128)         0         \n",
      "_________________________________________________________________\n",
      "dropout_3 (Dropout)          (None, 2, 2, 128)         0         \n",
      "_________________________________________________________________\n",
      "conv2d_4 (Conv2D)            (None, 1, 1, 256)         131328    \n",
      "_________________________________________________________________\n",
      "dropout_4 (Dropout)          (None, 1, 1, 256)         0         \n",
      "_________________________________________________________________\n",
      "flatten_1 (Flatten)          (None, 256)               0         \n",
      "_________________________________________________________________\n",
      "dense_1 (Dense)              (None, 256)               65792     \n",
      "_________________________________________________________________\n",
      "dropout_5 (Dropout)          (None, 256)               0         \n",
      "_________________________________________________________________\n",
      "dense_2 (Dense)              (None, 128)               32896     \n",
      "_________________________________________________________________\n",
      "dropout_6 (Dropout)          (None, 128)               0         \n",
      "_________________________________________________________________\n",
      "dense_3 (Dense)              (None, 10)                1290      \n",
      "=================================================================\n",
      "Total params: 272,778\n",
      "Trainable params: 272,778\n",
      "Non-trainable params: 0\n",
      "_________________________________________________________________\n"
     ]
    }
   ],
   "source": [
    "tf.reset_default_graph()\n",
    "\n",
    "model = Sequential()\n",
    "model.add(Conv2D(32, kernel_size=(3,3), activation='relu', input_shape=(img_row, img_col, 1)))\n",
    "model.add(MaxPooling2D((2,2)))\n",
    "model.add(Dropout(0.25))\n",
    "model.add(Conv2D(64, (2,2), activation='relu'))\n",
    "model.add(MaxPooling2D(pool_size=(2,2)))\n",
    "model.add(Dropout(0.25))\n",
    "model.add(Conv2D(128, (2,2), activation='relu'))\n",
    "model.add(MaxPooling2D(pool_size=(2,2)))\n",
    "model.add(Dropout(0.25))\n",
    "model.add(Conv2D(256, (2,2), activation='relu'))\n",
    "model.add(Dropout(0.4))\n",
    "model.add(Flatten())\n",
    "model.add(Dense(256, activation='relu'))\n",
    "model.add(Dropout(0.3))\n",
    "model.add(Dense(128, activation='relu'))\n",
    "model.add(Dropout(0.3))\n",
    "model.add(Dense(num_classes, activation='sigmoid'))\n",
    "\n",
    "model.compile(loss=keras.losses.categorical_crossentropy, optimizer=keras.optimizers.Adam(), metrics=['accuracy'])\n",
    "\n",
    "model.summary()"
   ]
  },
  {
   "cell_type": "code",
   "execution_count": 11,
   "metadata": {
    "collapsed": false
   },
   "outputs": [
    {
     "name": "stdout",
     "output_type": "stream",
     "text": [
      "Train on 52500 samples, validate on 17500 samples\n",
      "Epoch 1/20\n",
      "52500/52500 [==============================] - 70s 1ms/step - loss: 0.4726 - acc: 0.8467 - val_loss: 0.0838 - val_acc: 0.9750\n",
      "Epoch 2/20\n",
      "52500/52500 [==============================] - 46s 884us/step - loss: 0.1501 - acc: 0.9581 - val_loss: 0.0586 - val_acc: 0.9832\n",
      "Epoch 3/20\n",
      "52500/52500 [==============================] - 46s 874us/step - loss: 0.1233 - acc: 0.9655 - val_loss: 0.0515 - val_acc: 0.9846\n",
      "Epoch 4/20\n",
      "52500/52500 [==============================] - 46s 878us/step - loss: 0.1035 - acc: 0.9717 - val_loss: 0.0450 - val_acc: 0.9868\n",
      "Epoch 5/20\n",
      "52500/52500 [==============================] - 46s 871us/step - loss: 0.0984 - acc: 0.9746 - val_loss: 0.0428 - val_acc: 0.9882\n",
      "Epoch 6/20\n",
      "52500/52500 [==============================] - 46s 868us/step - loss: 0.0894 - acc: 0.9758 - val_loss: 0.0419 - val_acc: 0.9887\n",
      "Epoch 7/20\n",
      "52500/52500 [==============================] - 46s 871us/step - loss: 0.0840 - acc: 0.9771 - val_loss: 0.0456 - val_acc: 0.9887\n",
      "Epoch 8/20\n",
      "52500/52500 [==============================] - 46s 869us/step - loss: 0.0819 - acc: 0.9782 - val_loss: 0.0428 - val_acc: 0.9884\n",
      "Epoch 9/20\n",
      "52500/52500 [==============================] - 45s 866us/step - loss: 0.0815 - acc: 0.9773 - val_loss: 0.0403 - val_acc: 0.9896\n",
      "Epoch 10/20\n",
      "52500/52500 [==============================] - 46s 869us/step - loss: 0.0799 - acc: 0.9797 - val_loss: 0.0401 - val_acc: 0.9895\n",
      "Epoch 11/20\n",
      "52500/52500 [==============================] - 45s 864us/step - loss: 0.0743 - acc: 0.9805 - val_loss: 0.0365 - val_acc: 0.9899\n",
      "Epoch 12/20\n",
      "52500/52500 [==============================] - 45s 866us/step - loss: 0.0720 - acc: 0.9811 - val_loss: 0.0363 - val_acc: 0.9909\n",
      "Epoch 13/20\n",
      "52500/52500 [==============================] - 46s 875us/step - loss: 0.0679 - acc: 0.9825 - val_loss: 0.0378 - val_acc: 0.9909\n",
      "Epoch 14/20\n",
      "52500/52500 [==============================] - 46s 873us/step - loss: 0.0682 - acc: 0.9823 - val_loss: 0.0344 - val_acc: 0.9911\n",
      "Epoch 15/20\n",
      "52500/52500 [==============================] - 46s 870us/step - loss: 0.0709 - acc: 0.9819 - val_loss: 0.0387 - val_acc: 0.9893\n",
      "Epoch 16/20\n",
      "52500/52500 [==============================] - 46s 878us/step - loss: 0.0636 - acc: 0.9836 - val_loss: 0.0392 - val_acc: 0.9900\n",
      "Epoch 17/20\n",
      "52500/52500 [==============================] - 46s 877us/step - loss: 0.0655 - acc: 0.9833 - val_loss: 0.0377 - val_acc: 0.9905\n",
      "Epoch 18/20\n",
      "52500/52500 [==============================] - 46s 878us/step - loss: 0.0626 - acc: 0.9833 - val_loss: 0.0361 - val_acc: 0.9907\n",
      "Epoch 19/20\n",
      "52500/52500 [==============================] - 46s 873us/step - loss: 0.0621 - acc: 0.9837 - val_loss: 0.0389 - val_acc: 0.9893\n",
      "Epoch 20/20\n",
      "52500/52500 [==============================] - 46s 882us/step - loss: 0.0645 - acc: 0.9839 - val_loss: 0.0297 - val_acc: 0.9916\n"
     ]
    },
    {
     "data": {
      "text/plain": [
       "<keras.callbacks.History at 0x2b8cbbec2e8>"
      ]
     },
     "execution_count": 11,
     "metadata": {},
     "output_type": "execute_result"
    }
   ],
   "source": [
    "model.fit(X_train, Y_train, batch_size=32, epochs=epoch, validation_data=(X_test, Y_test), verbose=1)"
   ]
  },
  {
   "cell_type": "code",
   "execution_count": 12,
   "metadata": {
    "collapsed": false
   },
   "outputs": [
    {
     "name": "stdout",
     "output_type": "stream",
     "text": [
      "Test Loss: 0.029736063707\n",
      "Test accuracy: 0.9916\n"
     ]
    }
   ],
   "source": [
    "score = model.evaluate(X_test, Y_test, verbose=0)\n",
    "print('Test Loss:', score[0])\n",
    "print('Test accuracy:', score[1])"
   ]
  },
  {
   "cell_type": "code",
   "execution_count": 13,
   "metadata": {
    "collapsed": true
   },
   "outputs": [],
   "source": [
    "target_dir = './newmodels/'\n",
    "if not os.path.exists(target_dir):\n",
    "  os.mkdir(target_dir)\n",
    "model.save('./newmodels/model.h5')\n",
    "model.save_weights('./newmodels/weights.h5')"
   ]
  },
  {
   "cell_type": "code",
   "execution_count": 14,
   "metadata": {
    "collapsed": false
   },
   "outputs": [
    {
     "ename": "TypeError",
     "evalue": "%d format: a number is required, not numpy.ndarray",
     "output_type": "error",
     "traceback": [
      "\u001b[0;31m---------------------------------------------------------------------------\u001b[0m",
      "\u001b[0;31mTypeError\u001b[0m                                 Traceback (most recent call last)",
      "\u001b[0;32m<ipython-input-14-4291d84978c4>\u001b[0m in \u001b[0;36m<module>\u001b[0;34m()\u001b[0m\n\u001b[1;32m     15\u001b[0m     \u001b[0mnumber\u001b[0m \u001b[1;33m+=\u001b[0m \u001b[1;36m1\u001b[0m\u001b[1;33m\u001b[0m\u001b[0m\n\u001b[1;32m     16\u001b[0m '''\n\u001b[0;32m---> 17\u001b[0;31m \u001b[0mprint\u001b[0m\u001b[1;33m(\u001b[0m\u001b[1;34m\"The Number is = %d\"\u001b[0m \u001b[1;33m%\u001b[0m \u001b[0mresult\u001b[0m \u001b[1;33m)\u001b[0m\u001b[1;33m\u001b[0m\u001b[0m\n\u001b[0m",
      "\u001b[0;31mTypeError\u001b[0m: %d format: a number is required, not numpy.ndarray"
     ]
    }
   ],
   "source": [
    "import numpy as np\n",
    "from keras.preprocessing import image\n",
    "#test_image = image.load_img('43.png', target_size=(28,28))\n",
    "ip_img = cv2.imread('43.png')\n",
    "ip_img = cv2.cvtColor(ip_img, cv2.COLOR_BGR2GRAY)\n",
    "ip_img = cv2.resize(ip_img, (img_row,img_col))\n",
    "test_image = image.img_to_array(ip_img)\n",
    "test_image = np.expand_dims(test_image, axis = 0)\n",
    "result = model.predict_proba(test_image)\n",
    "'''\n",
    "number = 0\n",
    "for i in result[0]:\n",
    "    if i == 1:\n",
    "        result = number\n",
    "    number += 1\n",
    "'''\n",
    "#print(\"The Number is = %d\" % result )\n",
    "print(result)"
   ]
  },
  {
   "cell_type": "code",
   "execution_count": null,
   "metadata": {
    "collapsed": true
   },
   "outputs": [],
   "source": []
  }
 ],
 "metadata": {
  "anaconda-cloud": {},
  "kernelspec": {
   "display_name": "Python [default]",
   "language": "python",
   "name": "python3"
  },
  "language_info": {
   "codemirror_mode": {
    "name": "ipython",
    "version": 3
   },
   "file_extension": ".py",
   "mimetype": "text/x-python",
   "name": "python",
   "nbconvert_exporter": "python",
   "pygments_lexer": "ipython3",
   "version": "3.5.2"
  }
 },
 "nbformat": 4,
 "nbformat_minor": 1
}
