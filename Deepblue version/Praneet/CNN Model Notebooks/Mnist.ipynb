{
 "cells": [
  {
   "cell_type": "code",
   "execution_count": 1,
   "metadata": {
    "collapsed": false
   },
   "outputs": [
    {
     "name": "stderr",
     "output_type": "stream",
     "text": [
      "Using TensorFlow backend.\n"
     ]
    }
   ],
   "source": [
    "import sys\n",
    "import os\n",
    "from keras.preprocessing.image import ImageDataGenerator\n",
    "from keras import optimizers\n",
    "from keras.models import Sequential\n",
    "from keras.layers import Dropout, Flatten, Dense, Activation\n",
    "from keras.layers.convolutional import Convolution2D, MaxPooling2D\n",
    "from keras import callbacks\n"
   ]
  },
  {
   "cell_type": "code",
   "execution_count": 2,
   "metadata": {
    "collapsed": true
   },
   "outputs": [],
   "source": [
    "epochs = 10\n",
    "train_data_path = './mnist_png/training'\n",
    "validation_data_path = './mnist_png/testing'"
   ]
  },
  {
   "cell_type": "code",
   "execution_count": 3,
   "metadata": {
    "collapsed": true
   },
   "outputs": [],
   "source": [
    "img_width, img_height = 28, 28\n",
    "batch_size = 32\n",
    "samples_per_epoch = 1000\n",
    "validation_steps = 300\n",
    "nb_filters1 = 32\n",
    "nb_filters2 = 64\n",
    "conv1_size = 3\n",
    "conv2_size = 2\n",
    "pool_size = 2\n",
    "classes_num = 10\n",
    "lr = 0.0004"
   ]
  },
  {
   "cell_type": "code",
   "execution_count": 4,
   "metadata": {
    "collapsed": false
   },
   "outputs": [
    {
     "name": "stderr",
     "output_type": "stream",
     "text": [
      "C:\\Users\\Praneet\\Anaconda3\\lib\\site-packages\\ipykernel\\__main__.py:2: UserWarning: Update your `Conv2D` call to the Keras 2 API: `Conv2D(32, (3, 3), input_shape=(28, 28, 3..., padding=\"same\")`\n",
      "  from ipykernel import kernelapp as app\n",
      "C:\\Users\\Praneet\\Anaconda3\\lib\\site-packages\\ipykernel\\__main__.py:6: UserWarning: Update your `Conv2D` call to the Keras 2 API: `Conv2D(64, (2, 2), padding=\"same\")`\n",
      "C:\\Users\\Praneet\\Anaconda3\\lib\\site-packages\\ipykernel\\__main__.py:8: UserWarning: Update your `MaxPooling2D` call to the Keras 2 API: `MaxPooling2D(pool_size=(2, 2), data_format=\"channels_first\")`\n"
     ]
    }
   ],
   "source": [
    "model = Sequential()\n",
    "model.add(Convolution2D(nb_filters1, conv1_size, conv1_size, border_mode =\"same\", input_shape=(img_width, img_height, 3)))\n",
    "model.add(Activation(\"relu\"))\n",
    "model.add(MaxPooling2D(pool_size=(pool_size, pool_size)))\n",
    "\n",
    "model.add(Convolution2D(nb_filters2, conv2_size, conv2_size, border_mode =\"same\"))\n",
    "model.add(Activation(\"relu\"))\n",
    "model.add(MaxPooling2D(pool_size=(pool_size, pool_size), dim_ordering='th'))\n",
    "\n",
    "model.add(Flatten())\n",
    "model.add(Dense(256))\n",
    "model.add(Activation(\"relu\"))\n",
    "model.add(Dropout(0.5))\n",
    "model.add(Dense(classes_num, activation='softmax'))"
   ]
  },
  {
   "cell_type": "code",
   "execution_count": 5,
   "metadata": {
    "collapsed": true
   },
   "outputs": [],
   "source": [
    "model.compile(loss='categorical_crossentropy', optimizer=optimizers.RMSprop(lr=lr),metrics=['accuracy'])"
   ]
  },
  {
   "cell_type": "code",
   "execution_count": 6,
   "metadata": {
    "collapsed": false
   },
   "outputs": [
    {
     "name": "stdout",
     "output_type": "stream",
     "text": [
      "Found 60000 images belonging to 10 classes.\n",
      "Found 10000 images belonging to 10 classes.\n"
     ]
    }
   ],
   "source": [
    "train_datagen = ImageDataGenerator(\n",
    "    rescale=1. / 255,\n",
    "    shear_range=0.2,\n",
    "    zoom_range=0.2,\n",
    "    horizontal_flip=False)\n",
    "test_datagen = ImageDataGenerator(rescale=1. / 255)\n",
    "\n",
    "train_generator = train_datagen.flow_from_directory(\n",
    "    train_data_path,\n",
    "    target_size=(img_height, img_width),\n",
    "    batch_size=10,\n",
    "    class_mode='categorical')\n",
    "\n",
    "validation_generator = test_datagen.flow_from_directory(\n",
    "    validation_data_path,\n",
    "    target_size=(img_height, img_width),\n",
    "    batch_size=batch_size,\n",
    "    class_mode='categorical')"
   ]
  },
  {
   "cell_type": "code",
   "execution_count": 7,
   "metadata": {
    "collapsed": false,
    "scrolled": true
   },
   "outputs": [
    {
     "name": "stderr",
     "output_type": "stream",
     "text": [
      "C:\\Users\\Praneet\\Anaconda3\\lib\\site-packages\\ipykernel\\__main__.py:6: UserWarning: Update your `fit_generator` call to the Keras 2 API: `fit_generator(<keras.pre..., validation_steps=300, steps_per_epoch=6000, epochs=10, validation_data=<keras.pre...)`\n"
     ]
    },
    {
     "name": "stdout",
     "output_type": "stream",
     "text": [
      "Epoch 1/10\n",
      "6000/6000 [==============================] - 235s 39ms/step - loss: 0.2201 - acc: 0.9313 - val_loss: 0.0567 - val_acc: 0.9807\n",
      "Epoch 2/10\n",
      "6000/6000 [==============================] - 249s 42ms/step - loss: 0.1024 - acc: 0.9703 - val_loss: 0.0446 - val_acc: 0.9853\n",
      "Epoch 3/10\n",
      "6000/6000 [==============================] - 228s 38ms/step - loss: 0.0971 - acc: 0.9722 - val_loss: 0.0430 - val_acc: 0.9866\n",
      "Epoch 4/10\n",
      "6000/6000 [==============================] - 242s 40ms/step - loss: 0.0963 - acc: 0.9729 - val_loss: 0.0462 - val_acc: 0.9846\n",
      "Epoch 5/10\n",
      "6000/6000 [==============================] - 165s 28ms/step - loss: 0.1047 - acc: 0.9706 - val_loss: 0.0488 - val_acc: 0.9844\n",
      "Epoch 6/10\n",
      "6000/6000 [==============================] - 170s 28ms/step - loss: 0.1081 - acc: 0.9700 - val_loss: 0.0479 - val_acc: 0.9844\n",
      "Epoch 7/10\n",
      "6000/6000 [==============================] - 157s 26ms/step - loss: 0.1126 - acc: 0.9687 - val_loss: 0.0527 - val_acc: 0.9840\n",
      "Epoch 8/10\n",
      "6000/6000 [==============================] - 170s 28ms/step - loss: 0.1181 - acc: 0.9678 - val_loss: 0.0533 - val_acc: 0.9852\n",
      "Epoch 9/10\n",
      "6000/6000 [==============================] - 170s 28ms/step - loss: 0.1202 - acc: 0.9663 - val_loss: 0.0619 - val_acc: 0.9822\n",
      "Epoch 10/10\n",
      "6000/6000 [==============================] - 169s 28ms/step - loss: 0.1242 - acc: 0.9664 - val_loss: 0.0696 - val_acc: 0.9811\n"
     ]
    },
    {
     "data": {
      "text/plain": [
       "<keras.callbacks.History at 0x1d6f03f1b38>"
      ]
     },
     "execution_count": 7,
     "metadata": {},
     "output_type": "execute_result"
    }
   ],
   "source": [
    "model.fit_generator(\n",
    "    train_generator,\n",
    "    samples_per_epoch=60000,\n",
    "    epochs=epochs,\n",
    "    validation_data=validation_generator,\n",
    "    validation_steps=validation_steps)"
   ]
  },
  {
   "cell_type": "code",
   "execution_count": 8,
   "metadata": {
    "collapsed": true
   },
   "outputs": [],
   "source": [
    "target_dir = './models/'\n",
    "if not os.path.exists(target_dir):\n",
    "  os.mkdir(target_dir)\n",
    "model.save('./models/model.h5')\n",
    "model.save_weights('./models/weights.h5')"
   ]
  },
  {
   "cell_type": "code",
   "execution_count": 13,
   "metadata": {
    "collapsed": true
   },
   "outputs": [],
   "source": [
    "import numpy as np\n",
    "from keras.preprocessing import image"
   ]
  },
  {
   "cell_type": "code",
   "execution_count": 21,
   "metadata": {
    "collapsed": false
   },
   "outputs": [
    {
     "name": "stdout",
     "output_type": "stream",
     "text": [
      "[[ 0.  0.  0.  0.  0.  0.  0.  0.  1.  0.]]\n"
     ]
    }
   ],
   "source": [
    "test_image = image.load_img('43.png', target_size=(28,28))\n",
    "test_image = image.img_to_array(test_image)\n",
    "test_image = np.expand_dims(test_image, axis = 0)\n",
    "result = model.predict(test_image)\n",
    "train_generator.class_indices\n",
    "print(result)"
   ]
  },
  {
   "cell_type": "code",
   "execution_count": 23,
   "metadata": {
    "collapsed": false
   },
   "outputs": [
    {
     "name": "stdout",
     "output_type": "stream",
     "text": [
      "[[  0   0   0   0   0   0   0   0   0   0   0   0   0   0   0   0   0   0\n",
      "    0   0   0   0   0   0   0   0   0   0]\n",
      " [  0   0   0   0   0   0   0   0   0   0   0   0   0   0   0   0   0   0\n",
      "    0   0   0   0   0   0   0   0   0   0]\n",
      " [  0   0   0   0   0   0   0   0   0   0   0   0   0   0   0   0   0   0\n",
      "    0   0   0   0   0   0   0   0   0   0]\n",
      " [  0   0   0   0   0   0   0   0   0   0   0   0   0   0   0   0   0   0\n",
      "    0   0   0   0   0   0   0   0   0   0]\n",
      " [  0   0   0   0   0   0   0   0   0   0   0   0   0   0   0   0   0   0\n",
      "    0   0   0   0   0   0   0   0   0   0]\n",
      " [  0   0   0   0   0   0   0   0   0   0   0   0   0  32 134 218 254 254\n",
      "  254 217  84   0   0   0   0   0   0   0]\n",
      " [  0   0   0   0   0   0   0  44 208 215 156  35 119 236 246 136  91  69\n",
      "  151 249 246  78   0   0   0   0   0   0]\n",
      " [  0   0   0   0   0   0  44 230 254 254 254 254 254 196  48   0   0   0\n",
      "    0  60 224 210  24   0   0   0   0   0]\n",
      " [  0   0   0   0   0   0 118 254 202  19 201 254 181   9   0   0   0   0\n",
      "    0   0  35 233 168   0   0   0   0   0]\n",
      " [  0   0   0   0   0   0 193 223  34   0  59 163 236  15   0   0   0   0\n",
      "    0   0   0 140 205   8   0   0   0   0]\n",
      " [  0   0   0   0   0  60 254 176   0   0   0   0  38   0   0   0   0   0\n",
      "    0   0   0  54 237  80   0   0   0   0]\n",
      " [  0   0   0   0   0  59 254  93   0   0   0   0   0   0   0   0   0   0\n",
      "    0   0   0   0 131 200   0   0   0   0]\n",
      " [  0   0   0   0   0  59 240  24   0   0   0   0   0   0   0   0   0   0\n",
      "    0   0   0   0  79 214   0   0   0   0]\n",
      " [  0   0   0   0   0  59 234   0   0   0   0   0   0   0   0   0   0   0\n",
      "    0   0   0   0  67 248  54   0   0   0]\n",
      " [  0   0   0   0   0  59 234   0   0   0   0   0   0   0   0   0   0   0\n",
      "    0   0   0   0   0 235  58   0   0   0]\n",
      " [  0   0   0   0   0  60 235   0   0   0   0   0   0   0   0   0   0   0\n",
      "    0   0   0   0  79 255  59   0   0   0]\n",
      " [  0   0   0   0   0  59 251  66   0   0   0   0   0   0   0   0   0   0\n",
      "    0   0   0   0  79 250  54   0   0   0]\n",
      " [  0   0   0   0   0  59 254 108   0   0   0   0   0   0   0   0   0   0\n",
      "    0   0   0   0 146 214   0   0   0   0]\n",
      " [  0   0   0   0   0   5 203 187   3   0   0   0   0   0   0   0   0   0\n",
      "    0   0   0   4 188 199   0   0   0   0]\n",
      " [  0   0   0   0   0   0 118 254  57   0   0   0   0   0   0   0   0   0\n",
      "    0   0   0  96 254 117   0   0   0   0]\n",
      " [  0   0   0   0   0   0  16 237 224  14   0   0   0   0   0   0   0   0\n",
      "    0   0  14 187 206   8   0   0   0   0]\n",
      " [  0   0   0   0   0   0   0  88 252 186  16   0   0   0   0   0   0   0\n",
      "    0  16 187 252 125   0   0   0   0   0]\n",
      " [  0   0   0   0   0   0   0   0 100 254 237  94  24   0   0   0   0   0\n",
      "   13 214 254 166   0   0   0   0   0   0]\n",
      " [  0   0   0   0   0   0   0   0   3  57 215 248 241 235 197 137 137 137\n",
      "  231 238 155  25   0   0   0   0   0   0]\n",
      " [  0   0   0   0   0   0   0   0   0   0   0  57 155 246 254 254 254 254\n",
      "  147  36   0   0   0   0   0   0   0   0]\n",
      " [  0   0   0   0   0   0   0   0   0   0   0   0   0   0   0   0   0   0\n",
      "    0   0   0   0   0   0   0   0   0   0]\n",
      " [  0   0   0   0   0   0   0   0   0   0   0   0   0   0   0   0   0   0\n",
      "    0   0   0   0   0   0   0   0   0   0]\n",
      " [  0   0   0   0   0   0   0   0   0   0   0   0   0   0   0   0   0   0\n",
      "    0   0   0   0   0   0   0   0   0   0]]\n"
     ]
    }
   ],
   "source": [
    "from PIL import Image\n",
    "from numpy import array\n",
    "img = Image.open(\"246.png\")\n",
    "arr = array(img)\n",
    "print(arr)"
   ]
  },
  {
   "cell_type": "code",
   "execution_count": 1,
   "metadata": {
    "collapsed": true
   },
   "outputs": [],
   "source": [
    "import pandas as pd\n",
    "import shutil as sh\n",
    "import os"
   ]
  },
  {
   "cell_type": "code",
   "execution_count": 5,
   "metadata": {
    "collapsed": false
   },
   "outputs": [
    {
     "name": "stdout",
     "output_type": "stream",
     "text": [
      "Hogaya! Khush?\n"
     ]
    },
    {
     "data": {
      "text/plain": [
       "'\\n#print(labels)\\nx = labels.iloc[:,0]\\ny = labels.iloc[:,2]\\nz = str(labels.iloc[0,0])\\na = str(labels.iloc[0,2])\\nb = str(labels.iloc[1,2])\\n#print(x)\\nprint(y)\\nprint(z + \" \" + a + \" \" + b)\\n'"
      ]
     },
     "execution_count": 5,
     "metadata": {},
     "output_type": "execute_result"
    }
   ],
   "source": [
    "hasy_dataset = pd.read_csv('hasy-data-labels.csv')\n",
    "\n",
    "label_dir = hasy_dataset.iloc[:,2]\n",
    "img_dir = './hasy-data/'\n",
    "#dataset_directory = './HASY_Dataset'\n",
    "#print(label_dir)\n",
    "# number of images = 168232\n",
    "i = 0\n",
    "\n",
    "\n",
    "for img in [img_file for img_file in os.listdir(img_dir) if img_file.endswith(\".png\")]:\n",
    "    class_name = str(label_dir[i])\n",
    "    if not os.path.exists(class_name):\n",
    "        os.mkdir(class_name)\n",
    "    sh.move(img_dir + img,class_name)\n",
    "    i += 1\n",
    "    if i == 168232:\n",
    "        print(\"Hogaya! Khush?\")\n",
    "    \n",
    "    \n",
    "'''\n",
    "#print(labels)\n",
    "x = labels.iloc[:,0]\n",
    "y = labels.iloc[:,2]\n",
    "z = str(labels.iloc[0,0])\n",
    "a = str(labels.iloc[0,2])\n",
    "b = str(labels.iloc[1,2])\n",
    "#print(x)\n",
    "print(y)\n",
    "print(z + \" \" + a + \" \" + b)\n",
    "'''"
   ]
  },
  {
   "cell_type": "code",
   "execution_count": 6,
   "metadata": {
    "collapsed": true
   },
   "outputs": [],
   "source": [
    "import cv2"
   ]
  },
  {
   "cell_type": "code",
   "execution_count": 8,
   "metadata": {
    "collapsed": false
   },
   "outputs": [
    {
     "data": {
      "text/plain": [
       "(45, 45, 3)"
      ]
     },
     "execution_count": 8,
     "metadata": {},
     "output_type": "execute_result"
    }
   ],
   "source": [
    "img = cv2.imread('./../a_633.jpg')\n",
    "resized = cv2.resize(img, )\n",
    "img.shape"
   ]
  },
  {
   "cell_type": "code",
   "execution_count": null,
   "metadata": {
    "collapsed": true
   },
   "outputs": [],
   "source": []
  }
 ],
 "metadata": {
  "anaconda-cloud": {},
  "kernelspec": {
   "display_name": "Python [conda root]",
   "language": "python",
   "name": "conda-root-py"
  },
  "language_info": {
   "codemirror_mode": {
    "name": "ipython",
    "version": 3
   },
   "file_extension": ".py",
   "mimetype": "text/x-python",
   "name": "python",
   "nbconvert_exporter": "python",
   "pygments_lexer": "ipython3",
   "version": "3.5.2"
  }
 },
 "nbformat": 4,
 "nbformat_minor": 1
}
