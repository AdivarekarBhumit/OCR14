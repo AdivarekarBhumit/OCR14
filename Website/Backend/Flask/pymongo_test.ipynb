{
 "cells": [
  {
   "cell_type": "code",
   "execution_count": 1,
   "metadata": {},
   "outputs": [],
   "source": [
    "import pymongo as pm"
   ]
  },
  {
   "cell_type": "code",
   "execution_count": 2,
   "metadata": {},
   "outputs": [],
   "source": [
    "conn = pm.MongoClient('localhost:27017')"
   ]
  },
  {
   "cell_type": "code",
   "execution_count": 3,
   "metadata": {},
   "outputs": [],
   "source": [
    "db = conn.get_database(name='mongodb_test')"
   ]
  },
  {
   "cell_type": "code",
   "execution_count": 4,
   "metadata": {},
   "outputs": [
    {
     "data": {
      "text/plain": [
       "<pymongo.results.InsertOneResult at 0x2451f07fd48>"
      ]
     },
     "execution_count": 4,
     "metadata": {},
     "output_type": "execute_result"
    }
   ],
   "source": [
    "db['mongodb_test'].insert_one(\n",
    "        {\n",
    "        \"id\": '02',\n",
    "            \"name\":'employeeName2',\n",
    "        \"age\":'employeeAge2',\n",
    "        \"country\":'employeeCountry2'\n",
    "        })"
   ]
  },
  {
   "cell_type": "code",
   "execution_count": 14,
   "metadata": {},
   "outputs": [],
   "source": [
    "def insert_in_database(db_name, args_dict):\n",
    "    '''this function will take db name and args \n",
    "       of dictionary and insert it into specified database'''\n",
    "    db[db_name].insert_one(args_dict)\n",
    "    print('Data inserted successfully')"
   ]
  },
  {
   "cell_type": "code",
   "execution_count": 8,
   "metadata": {},
   "outputs": [
    {
     "name": "stdout",
     "output_type": "stream",
     "text": [
      "Data inserted successfully\n"
     ]
    }
   ],
   "source": [
    "temp_dict = {\n",
    "    'id':'01',\n",
    "    'name':'Bhumit',\n",
    "    'age':'20',\n",
    "    'contact':'9664092779'\n",
    "}\n",
    "\n",
    "insert_in_database(db_name='mongodb_test', args_dict=temp_dict)"
   ]
  },
  {
   "cell_type": "code",
   "execution_count": 10,
   "metadata": {},
   "outputs": [
    {
     "name": "stdout",
     "output_type": "stream",
     "text": [
      "{'_id': ObjectId('5aa39c4b07d87b162036c873'), 'id': '01', 'name': 'Bhumit', 'age': '20', 'contact': '9664092779'}\n",
      "{'_id': ObjectId('5aa3e7ac07d87b07a0268dad'), 'id': '02', 'name': 'employeeName2', 'age': 'employeeAge2', 'country': 'employeeCountry2'}\n"
     ]
    }
   ],
   "source": [
    "# Read Data from mongodb_test\n",
    "cols = db['mongodb_test'].find() \n",
    "for col in cols:\n",
    "    print(col)"
   ]
  },
  {
   "cell_type": "code",
   "execution_count": 7,
   "metadata": {},
   "outputs": [
    {
     "name": "stdout",
     "output_type": "stream",
     "text": [
      "<pymongo.cursor.Cursor object at 0x000002451C46CB70>\n"
     ]
    }
   ],
   "source": [
    "print(cols)"
   ]
  },
  {
   "cell_type": "code",
   "execution_count": 11,
   "metadata": {},
   "outputs": [],
   "source": [
    "def read_from_db(db_name):\n",
    "    cols = db[db_name].find()\n",
    "    return cols"
   ]
  },
  {
   "cell_type": "code",
   "execution_count": 13,
   "metadata": {},
   "outputs": [
    {
     "data": {
      "text/plain": [
       "<pymongo.results.DeleteResult at 0x2451f03aec8>"
      ]
     },
     "execution_count": 13,
     "metadata": {},
     "output_type": "execute_result"
    }
   ],
   "source": [
    "db['mongodb_test'].delete_many({'id':'02'})"
   ]
  },
  {
   "cell_type": "code",
   "execution_count": 15,
   "metadata": {},
   "outputs": [
    {
     "name": "stdout",
     "output_type": "stream",
     "text": [
      "Data inserted successfully\n"
     ]
    }
   ],
   "source": [
    "args_dict = {\n",
    "    'id':'02',\n",
    "    'name':'Kevin',\n",
    "    'contact':'8645464546',\n",
    "    'age':'26'\n",
    "}\n",
    "insert_in_database(db_name='mongodb_test', args_dict=args_dict)"
   ]
  },
  {
   "cell_type": "code",
   "execution_count": 31,
   "metadata": {},
   "outputs": [],
   "source": [
    "#Update in data base\n",
    "def update_entry(db_name, idno, updation):\n",
    "    db[db_name].update_one(idno, updation)\n",
    "    print('Database updated successfully')"
   ]
  },
  {
   "cell_type": "code",
   "execution_count": 32,
   "metadata": {},
   "outputs": [],
   "source": [
    "args_dict = [\n",
    "    {'id':'02'},\n",
    "    {\n",
    "        '$set':{\n",
    "            'name':'Kevin11',\n",
    "            'contact':'9664820165'\n",
    "        }\n",
    "    }\n",
    "]"
   ]
  },
  {
   "cell_type": "code",
   "execution_count": 33,
   "metadata": {},
   "outputs": [
    {
     "name": "stdout",
     "output_type": "stream",
     "text": [
      "Database updated successfully\n"
     ]
    }
   ],
   "source": [
    "update_entry('mongodb_test', idno=args_dict[0], updation=args_dict[1])"
   ]
  },
  {
   "cell_type": "code",
   "execution_count": 34,
   "metadata": {},
   "outputs": [],
   "source": [
    "def delete_row(db_name, idno):\n",
    "    db[db_name].delete_many(idno)\n",
    "    print('Row deleted')"
   ]
  },
  {
   "cell_type": "code",
   "execution_count": 35,
   "metadata": {},
   "outputs": [
    {
     "name": "stdout",
     "output_type": "stream",
     "text": [
      "Row deleted\n"
     ]
    }
   ],
   "source": [
    "delete_row('mongodb_test', idno={'id':'01'})"
   ]
  }
 ],
 "metadata": {
  "kernelspec": {
   "display_name": "Python 3",
   "language": "python",
   "name": "python3"
  },
  "language_info": {
   "codemirror_mode": {
    "name": "ipython",
    "version": 3
   },
   "file_extension": ".py",
   "mimetype": "text/x-python",
   "name": "python",
   "nbconvert_exporter": "python",
   "pygments_lexer": "ipython3",
   "version": "3.6.4"
  }
 },
 "nbformat": 4,
 "nbformat_minor": 2
}
