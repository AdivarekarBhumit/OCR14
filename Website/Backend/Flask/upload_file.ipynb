{
 "cells": [
  {
   "cell_type": "code",
   "execution_count": 45,
   "metadata": {},
   "outputs": [],
   "source": [
    "from flask import Flask , render_template, request\n",
    "from werkzeug.utils import secure_filename\n",
    "import os\n",
    "import pymongo as pm"
   ]
  },
  {
   "cell_type": "code",
   "execution_count": 44,
   "metadata": {},
   "outputs": [],
   "source": [
    "conn = pm.MongoClient('localhost:27017')\n",
    "dname = 'mydb'\n",
    "db = conn.get_database(name)\n",
    "def insert_data(db_name, args_dict):\n",
    "    '''\n",
    "    db_name -> string i.e name of the db\n",
    "    args_dict -> a dictionary of entries in db\n",
    "    '''\n",
    "    db[db_name].insert_one(args_dict)\n",
    "    print('Data inserted successfully')\n",
    "\n",
    "def read_data(db_name):\n",
    "    '''\n",
    "    returns a cursor of objects\n",
    "    which can be iterated and printed\n",
    "    '''\n",
    "    cols = db[db_name].find({})\n",
    "    return cols\n",
    "\n",
    "#Update in data base\n",
    "def update_data(db_name, idno, updation):\n",
    "    '''\n",
    "    db_name -> string\n",
    "    idno -> id number of database entry in dict\n",
    "    eg:- {'id':'02'}\n",
    "    updation -> dict of elements to be updated\n",
    "    eg:-{\n",
    "        '$set':{\n",
    "            'name':'Kevin11',\n",
    "            'contact':'9664820165'\n",
    "        }\n",
    "    }\n",
    "    '''\n",
    "    db[db_name].update_one(idno, updation)\n",
    "    print('Database updated successfully')\n",
    "\n",
    "def delete_row(db_name, idno):\n",
    "    '''\n",
    "    Deletes the complete row \n",
    "    idno must be a dict {idno:'anything'}\n",
    "    '''\n",
    "    db[db_name].delete_many(idno)\n",
    "    print('Row deleted')"
   ]
  },
  {
   "cell_type": "code",
   "execution_count": 47,
   "metadata": {},
   "outputs": [],
   "source": [
    "app = Flask(__name__)\n",
    "app.config['UPLOAD_FOLDER'] = './uploads'\n",
    "filters = ['jpg', 'pdf', 'jpeg', 'png', 'jfif', 'rar', 'zip']\n",
    "img_path = './uploads'\n",
    "@app.route('/')\n",
    "def upload_file():\n",
    "    return render_template('upload.html')\n",
    "\n",
    "@app.route('/uploaded', methods=['GET', 'POST'])\n",
    "def uploader():\n",
    "    if request.method == 'POST':\n",
    "        file = request.files['file']\n",
    "        print(secure_filename(file.filename))\n",
    "        name = secure_filename(file.filename)\n",
    "        if name.split('.')[1] in filters:\n",
    "            file.save(os.path.join(app.config['UPLOAD_FOLDER'],secure_filename(file.filename)))\n",
    "            args = {'name':name,\n",
    "                    'path':os.path.join(app.config['UPLOAD_FOLDER'],secure_filename(file.filename))}\n",
    "            insert_data(dname, args_dict=args)\n",
    "            return 'file uploaded successfully'\n",
    "        else:\n",
    "            return 'format is not supported'"
   ]
  },
  {
   "cell_type": "code",
   "execution_count": 48,
   "metadata": {},
   "outputs": [
    {
     "name": "stderr",
     "output_type": "stream",
     "text": [
      " * Running on http://127.0.0.1:5000/ (Press CTRL+C to quit)\n",
      "127.0.0.1 - - [14/Mar/2018 12:16:22] \"GET / HTTP/1.1\" 200 -\n"
     ]
    },
    {
     "name": "stdout",
     "output_type": "stream",
     "text": [
      "test.zip\n"
     ]
    },
    {
     "name": "stderr",
     "output_type": "stream",
     "text": [
      "127.0.0.1 - - [14/Mar/2018 12:16:37] \"POST /uploaded HTTP/1.1\" 200 -\n"
     ]
    },
    {
     "name": "stdout",
     "output_type": "stream",
     "text": [
      "Data inserted successfully\n"
     ]
    }
   ],
   "source": [
    "app.run()"
   ]
  },
  {
   "cell_type": "code",
   "execution_count": 52,
   "metadata": {},
   "outputs": [],
   "source": [
    "import cv2\n",
    "import numpy as np\n",
    "def read_image(img_name, dbname):\n",
    "    '''\n",
    "    Get image path form mongodb and display function\n",
    "    img_name -> string\n",
    "    dbname -> mongodb name in string\n",
    "    '''\n",
    "    cols = read_data(db_name=dbname)\n",
    "    for c in cols:\n",
    "        if c['name'] == img_name:\n",
    "            img = cv2.imread(c['path'])\n",
    "            cv2.imshow('dbimg', img)\n",
    "            cv2.waitKey(0)\n",
    "            cv2.destroyAllWindows()\n",
    "            \n",
    "read_image(img_name='cpyuigoku.jpg', dbname=dname)"
   ]
  },
  {
   "cell_type": "code",
   "execution_count": 38,
   "metadata": {},
   "outputs": [],
   "source": []
  }
 ],
 "metadata": {
  "kernelspec": {
   "display_name": "Python 3",
   "language": "python",
   "name": "python3"
  },
  "language_info": {
   "codemirror_mode": {
    "name": "ipython",
    "version": 3
   },
   "file_extension": ".py",
   "mimetype": "text/x-python",
   "name": "python",
   "nbconvert_exporter": "python",
   "pygments_lexer": "ipython3",
   "version": "3.6.4"
  }
 },
 "nbformat": 4,
 "nbformat_minor": 2
}
